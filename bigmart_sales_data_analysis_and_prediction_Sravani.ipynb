{
  "cells": [
    {
      "cell_type": "markdown",
      "metadata": {
        "papermill": {
          "duration": 0.040402,
          "end_time": "2020-11-18T12:53:42.735162",
          "exception": false,
          "start_time": "2020-11-18T12:53:42.694760",
          "status": "completed"
        },
        "tags": [],
        "id": "Reu4SuRP7rSY"
      },
      "source": [
        "# Introducion"
      ]
    },
    {
      "cell_type": "markdown",
      "metadata": {
        "papermill": {
          "duration": 0.039899,
          "end_time": "2020-11-18T12:53:42.815767",
          "exception": false,
          "start_time": "2020-11-18T12:53:42.775868",
          "status": "completed"
        },
        "tags": [],
        "id": "Uyaxc-7K7rSZ"
      },
      "source": [
        "### Problem Statement:\n",
        "The data scientists at BigMart have collected sales data for 1559 products across 10 stores in different cities for the year 2013. Now each product has certain attributes that sets it apart from other products.\n",
        "\n",
        "### Breakdown of the Problem Statement:\n",
        "* Supervised machine learning problem.\n",
        "* The target value will be `Item_Outlet_Sales`.\n",
        "\n",
        "### Aim of the NoteBook:\n",
        "The objective is to create a model that can predict the sales per product for each store. Using this model, BigMart will try to understand the properties of products and stores which play a key role in increasing sales."
      ]
    },
    {
      "cell_type": "markdown",
      "metadata": {
        "papermill": {
          "duration": 0.039616,
          "end_time": "2020-11-18T12:53:42.895382",
          "exception": false,
          "start_time": "2020-11-18T12:53:42.855766",
          "status": "completed"
        },
        "tags": [],
        "id": "vimx3e_17rSb"
      },
      "source": [
        "# Libraries"
      ]
    },
    {
      "cell_type": "code",
      "execution_count": 102,
      "metadata": {
        "execution": {
          "iopub.execute_input": "2020-11-18T12:53:42.984480Z",
          "iopub.status.busy": "2020-11-18T12:53:42.983767Z",
          "iopub.status.idle": "2020-11-18T12:53:44.045481Z",
          "shell.execute_reply": "2020-11-18T12:53:44.044764Z"
        },
        "papermill": {
          "duration": 1.110263,
          "end_time": "2020-11-18T12:53:44.045611",
          "exception": false,
          "start_time": "2020-11-18T12:53:42.935348",
          "status": "completed"
        },
        "tags": [],
        "id": "hTMjlEld7rSc"
      },
      "outputs": [],
      "source": [
        "import os #paths to file\n",
        "import numpy as np # linear algebra\n",
        "import pandas as pd # data processing\n",
        "import warnings# warning filter\n",
        "\n",
        "\n",
        "#ploting libraries\n",
        "import matplotlib.pyplot as plt\n",
        "import seaborn as sns\n",
        "\n",
        "#feature engineering\n",
        "from sklearn.preprocessing import OneHotEncoder\n",
        "from sklearn.preprocessing import LabelEncoder\n",
        "\n",
        "#train test split\n",
        "from sklearn.model_selection import train_test_split\n",
        "\n",
        "#metrics\n",
        "from sklearn.metrics import mean_absolute_error as MAE\n",
        "from sklearn.metrics import mean_squared_error as MSE\n",
        "from sklearn.metrics import r2_score as R2\n",
        "from sklearn.model_selection  import cross_val_score as CVS\n",
        "\n",
        "\n",
        "#ML models\n",
        "from sklearn.linear_model import LinearRegression\n",
        "from sklearn.ensemble import RandomForestRegressor\n",
        "from sklearn.linear_model import Lasso\n",
        "\n",
        "\n",
        "#default theme and settings\n",
        "sns.set(context='notebook', style='darkgrid', palette='deep', font='sans-serif', font_scale=1, color_codes=False, rc=None)\n",
        "pd.options.display.max_columns\n",
        "\n",
        "#warning hadle\n",
        "warnings.filterwarnings(\"always\")\n",
        "warnings.filterwarnings(\"ignore\")"
      ]
    },
    {
      "cell_type": "markdown",
      "metadata": {
        "papermill": {
          "duration": 0.040211,
          "end_time": "2020-11-18T12:53:44.126031",
          "exception": false,
          "start_time": "2020-11-18T12:53:44.085820",
          "status": "completed"
        },
        "tags": [],
        "id": "njszaKjP7rSe"
      },
      "source": [
        "# File Paths"
      ]
    },
    {
      "cell_type": "code",
      "execution_count": 103,
      "metadata": {
        "execution": {
          "iopub.execute_input": "2020-11-18T12:53:44.306629Z",
          "iopub.status.busy": "2020-11-18T12:53:44.305656Z",
          "iopub.status.idle": "2020-11-18T12:53:44.309139Z",
          "shell.execute_reply": "2020-11-18T12:53:44.308541Z"
        },
        "papermill": {
          "duration": 0.048552,
          "end_time": "2020-11-18T12:53:44.309304",
          "exception": false,
          "start_time": "2020-11-18T12:53:44.260752",
          "status": "completed"
        },
        "tags": [],
        "id": "-gkmwGn37rSh"
      },
      "outputs": [],
      "source": [
        "tr_path = \"Train.csv\"\n",
        "te_path = \"Test.csv\""
      ]
    },
    {
      "cell_type": "markdown",
      "metadata": {
        "papermill": {
          "duration": 0.040097,
          "end_time": "2020-11-18T12:53:44.389862",
          "exception": false,
          "start_time": "2020-11-18T12:53:44.349765",
          "status": "completed"
        },
        "tags": [],
        "id": "I8QRPGx07rSi"
      },
      "source": [
        "# Preprocessing and Data Analysis\n",
        "Training set:"
      ]
    },
    {
      "cell_type": "code",
      "execution_count": 104,
      "metadata": {
        "execution": {
          "iopub.execute_input": "2020-11-18T12:53:44.478864Z",
          "iopub.status.busy": "2020-11-18T12:53:44.478178Z",
          "iopub.status.idle": "2020-11-18T12:53:44.531896Z",
          "shell.execute_reply": "2020-11-18T12:53:44.531309Z"
        },
        "papermill": {
          "duration": 0.100933,
          "end_time": "2020-11-18T12:53:44.531999",
          "exception": false,
          "start_time": "2020-11-18T12:53:44.431066",
          "status": "completed"
        },
        "tags": [],
        "id": "moP6pVTc7rSi",
        "outputId": "fcfcebcb-197e-4b78-9828-ff417cc42ea4",
        "colab": {
          "base_uri": "https://localhost:8080/",
          "height": 313
        }
      },
      "outputs": [
        {
          "output_type": "execute_result",
          "data": {
            "text/plain": [
              "  Item_Identifier  Item_Weight Item_Fat_Content  Item_Visibility  \\\n",
              "0           FDA15         9.30          Low Fat         0.016047   \n",
              "1           DRC01         5.92          Regular         0.019278   \n",
              "2           FDN15        17.50          Low Fat         0.016760   \n",
              "3           FDX07        19.20          Regular         0.000000   \n",
              "4           NCD19         8.93          Low Fat         0.000000   \n",
              "\n",
              "               Item_Type  Item_MRP Outlet_Identifier  \\\n",
              "0                  Dairy  249.8092            OUT049   \n",
              "1            Soft Drinks   48.2692            OUT018   \n",
              "2                   Meat  141.6180            OUT049   \n",
              "3  Fruits and Vegetables  182.0950            OUT010   \n",
              "4              Household   53.8614            OUT013   \n",
              "\n",
              "   Outlet_Establishment_Year Outlet_Size Outlet_Location_Type  \\\n",
              "0                       1999      Medium               Tier 1   \n",
              "1                       2009      Medium               Tier 3   \n",
              "2                       1999      Medium               Tier 1   \n",
              "3                       1998         NaN               Tier 3   \n",
              "4                       1987        High               Tier 3   \n",
              "\n",
              "         Outlet_Type  Item_Outlet_Sales  \n",
              "0  Supermarket Type1          3735.1380  \n",
              "1  Supermarket Type2           443.4228  \n",
              "2  Supermarket Type1          2097.2700  \n",
              "3      Grocery Store           732.3800  \n",
              "4  Supermarket Type1           994.7052  "
            ],
            "text/html": [
              "\n",
              "  <div id=\"df-41f39b35-5d8f-44ae-b929-d9991f4392e9\" class=\"colab-df-container\">\n",
              "    <div>\n",
              "<style scoped>\n",
              "    .dataframe tbody tr th:only-of-type {\n",
              "        vertical-align: middle;\n",
              "    }\n",
              "\n",
              "    .dataframe tbody tr th {\n",
              "        vertical-align: top;\n",
              "    }\n",
              "\n",
              "    .dataframe thead th {\n",
              "        text-align: right;\n",
              "    }\n",
              "</style>\n",
              "<table border=\"1\" class=\"dataframe\">\n",
              "  <thead>\n",
              "    <tr style=\"text-align: right;\">\n",
              "      <th></th>\n",
              "      <th>Item_Identifier</th>\n",
              "      <th>Item_Weight</th>\n",
              "      <th>Item_Fat_Content</th>\n",
              "      <th>Item_Visibility</th>\n",
              "      <th>Item_Type</th>\n",
              "      <th>Item_MRP</th>\n",
              "      <th>Outlet_Identifier</th>\n",
              "      <th>Outlet_Establishment_Year</th>\n",
              "      <th>Outlet_Size</th>\n",
              "      <th>Outlet_Location_Type</th>\n",
              "      <th>Outlet_Type</th>\n",
              "      <th>Item_Outlet_Sales</th>\n",
              "    </tr>\n",
              "  </thead>\n",
              "  <tbody>\n",
              "    <tr>\n",
              "      <th>0</th>\n",
              "      <td>FDA15</td>\n",
              "      <td>9.30</td>\n",
              "      <td>Low Fat</td>\n",
              "      <td>0.016047</td>\n",
              "      <td>Dairy</td>\n",
              "      <td>249.8092</td>\n",
              "      <td>OUT049</td>\n",
              "      <td>1999</td>\n",
              "      <td>Medium</td>\n",
              "      <td>Tier 1</td>\n",
              "      <td>Supermarket Type1</td>\n",
              "      <td>3735.1380</td>\n",
              "    </tr>\n",
              "    <tr>\n",
              "      <th>1</th>\n",
              "      <td>DRC01</td>\n",
              "      <td>5.92</td>\n",
              "      <td>Regular</td>\n",
              "      <td>0.019278</td>\n",
              "      <td>Soft Drinks</td>\n",
              "      <td>48.2692</td>\n",
              "      <td>OUT018</td>\n",
              "      <td>2009</td>\n",
              "      <td>Medium</td>\n",
              "      <td>Tier 3</td>\n",
              "      <td>Supermarket Type2</td>\n",
              "      <td>443.4228</td>\n",
              "    </tr>\n",
              "    <tr>\n",
              "      <th>2</th>\n",
              "      <td>FDN15</td>\n",
              "      <td>17.50</td>\n",
              "      <td>Low Fat</td>\n",
              "      <td>0.016760</td>\n",
              "      <td>Meat</td>\n",
              "      <td>141.6180</td>\n",
              "      <td>OUT049</td>\n",
              "      <td>1999</td>\n",
              "      <td>Medium</td>\n",
              "      <td>Tier 1</td>\n",
              "      <td>Supermarket Type1</td>\n",
              "      <td>2097.2700</td>\n",
              "    </tr>\n",
              "    <tr>\n",
              "      <th>3</th>\n",
              "      <td>FDX07</td>\n",
              "      <td>19.20</td>\n",
              "      <td>Regular</td>\n",
              "      <td>0.000000</td>\n",
              "      <td>Fruits and Vegetables</td>\n",
              "      <td>182.0950</td>\n",
              "      <td>OUT010</td>\n",
              "      <td>1998</td>\n",
              "      <td>NaN</td>\n",
              "      <td>Tier 3</td>\n",
              "      <td>Grocery Store</td>\n",
              "      <td>732.3800</td>\n",
              "    </tr>\n",
              "    <tr>\n",
              "      <th>4</th>\n",
              "      <td>NCD19</td>\n",
              "      <td>8.93</td>\n",
              "      <td>Low Fat</td>\n",
              "      <td>0.000000</td>\n",
              "      <td>Household</td>\n",
              "      <td>53.8614</td>\n",
              "      <td>OUT013</td>\n",
              "      <td>1987</td>\n",
              "      <td>High</td>\n",
              "      <td>Tier 3</td>\n",
              "      <td>Supermarket Type1</td>\n",
              "      <td>994.7052</td>\n",
              "    </tr>\n",
              "  </tbody>\n",
              "</table>\n",
              "</div>\n",
              "    <div class=\"colab-df-buttons\">\n",
              "\n",
              "  <div class=\"colab-df-container\">\n",
              "    <button class=\"colab-df-convert\" onclick=\"convertToInteractive('df-41f39b35-5d8f-44ae-b929-d9991f4392e9')\"\n",
              "            title=\"Convert this dataframe to an interactive table.\"\n",
              "            style=\"display:none;\">\n",
              "\n",
              "  <svg xmlns=\"http://www.w3.org/2000/svg\" height=\"24px\" viewBox=\"0 -960 960 960\">\n",
              "    <path d=\"M120-120v-720h720v720H120Zm60-500h600v-160H180v160Zm220 220h160v-160H400v160Zm0 220h160v-160H400v160ZM180-400h160v-160H180v160Zm440 0h160v-160H620v160ZM180-180h160v-160H180v160Zm440 0h160v-160H620v160Z\"/>\n",
              "  </svg>\n",
              "    </button>\n",
              "\n",
              "  <style>\n",
              "    .colab-df-container {\n",
              "      display:flex;\n",
              "      gap: 12px;\n",
              "    }\n",
              "\n",
              "    .colab-df-convert {\n",
              "      background-color: #E8F0FE;\n",
              "      border: none;\n",
              "      border-radius: 50%;\n",
              "      cursor: pointer;\n",
              "      display: none;\n",
              "      fill: #1967D2;\n",
              "      height: 32px;\n",
              "      padding: 0 0 0 0;\n",
              "      width: 32px;\n",
              "    }\n",
              "\n",
              "    .colab-df-convert:hover {\n",
              "      background-color: #E2EBFA;\n",
              "      box-shadow: 0px 1px 2px rgba(60, 64, 67, 0.3), 0px 1px 3px 1px rgba(60, 64, 67, 0.15);\n",
              "      fill: #174EA6;\n",
              "    }\n",
              "\n",
              "    .colab-df-buttons div {\n",
              "      margin-bottom: 4px;\n",
              "    }\n",
              "\n",
              "    [theme=dark] .colab-df-convert {\n",
              "      background-color: #3B4455;\n",
              "      fill: #D2E3FC;\n",
              "    }\n",
              "\n",
              "    [theme=dark] .colab-df-convert:hover {\n",
              "      background-color: #434B5C;\n",
              "      box-shadow: 0px 1px 3px 1px rgba(0, 0, 0, 0.15);\n",
              "      filter: drop-shadow(0px 1px 2px rgba(0, 0, 0, 0.3));\n",
              "      fill: #FFFFFF;\n",
              "    }\n",
              "  </style>\n",
              "\n",
              "    <script>\n",
              "      const buttonEl =\n",
              "        document.querySelector('#df-41f39b35-5d8f-44ae-b929-d9991f4392e9 button.colab-df-convert');\n",
              "      buttonEl.style.display =\n",
              "        google.colab.kernel.accessAllowed ? 'block' : 'none';\n",
              "\n",
              "      async function convertToInteractive(key) {\n",
              "        const element = document.querySelector('#df-41f39b35-5d8f-44ae-b929-d9991f4392e9');\n",
              "        const dataTable =\n",
              "          await google.colab.kernel.invokeFunction('convertToInteractive',\n",
              "                                                    [key], {});\n",
              "        if (!dataTable) return;\n",
              "\n",
              "        const docLinkHtml = 'Like what you see? Visit the ' +\n",
              "          '<a target=\"_blank\" href=https://colab.research.google.com/notebooks/data_table.ipynb>data table notebook</a>'\n",
              "          + ' to learn more about interactive tables.';\n",
              "        element.innerHTML = '';\n",
              "        dataTable['output_type'] = 'display_data';\n",
              "        await google.colab.output.renderOutput(dataTable, element);\n",
              "        const docLink = document.createElement('div');\n",
              "        docLink.innerHTML = docLinkHtml;\n",
              "        element.appendChild(docLink);\n",
              "      }\n",
              "    </script>\n",
              "  </div>\n",
              "\n",
              "\n",
              "<div id=\"df-51e7472e-6791-43c0-ab0d-611919502edf\">\n",
              "  <button class=\"colab-df-quickchart\" onclick=\"quickchart('df-51e7472e-6791-43c0-ab0d-611919502edf')\"\n",
              "            title=\"Suggest charts\"\n",
              "            style=\"display:none;\">\n",
              "\n",
              "<svg xmlns=\"http://www.w3.org/2000/svg\" height=\"24px\"viewBox=\"0 0 24 24\"\n",
              "     width=\"24px\">\n",
              "    <g>\n",
              "        <path d=\"M19 3H5c-1.1 0-2 .9-2 2v14c0 1.1.9 2 2 2h14c1.1 0 2-.9 2-2V5c0-1.1-.9-2-2-2zM9 17H7v-7h2v7zm4 0h-2V7h2v10zm4 0h-2v-4h2v4z\"/>\n",
              "    </g>\n",
              "</svg>\n",
              "  </button>\n",
              "\n",
              "<style>\n",
              "  .colab-df-quickchart {\n",
              "      --bg-color: #E8F0FE;\n",
              "      --fill-color: #1967D2;\n",
              "      --hover-bg-color: #E2EBFA;\n",
              "      --hover-fill-color: #174EA6;\n",
              "      --disabled-fill-color: #AAA;\n",
              "      --disabled-bg-color: #DDD;\n",
              "  }\n",
              "\n",
              "  [theme=dark] .colab-df-quickchart {\n",
              "      --bg-color: #3B4455;\n",
              "      --fill-color: #D2E3FC;\n",
              "      --hover-bg-color: #434B5C;\n",
              "      --hover-fill-color: #FFFFFF;\n",
              "      --disabled-bg-color: #3B4455;\n",
              "      --disabled-fill-color: #666;\n",
              "  }\n",
              "\n",
              "  .colab-df-quickchart {\n",
              "    background-color: var(--bg-color);\n",
              "    border: none;\n",
              "    border-radius: 50%;\n",
              "    cursor: pointer;\n",
              "    display: none;\n",
              "    fill: var(--fill-color);\n",
              "    height: 32px;\n",
              "    padding: 0;\n",
              "    width: 32px;\n",
              "  }\n",
              "\n",
              "  .colab-df-quickchart:hover {\n",
              "    background-color: var(--hover-bg-color);\n",
              "    box-shadow: 0 1px 2px rgba(60, 64, 67, 0.3), 0 1px 3px 1px rgba(60, 64, 67, 0.15);\n",
              "    fill: var(--button-hover-fill-color);\n",
              "  }\n",
              "\n",
              "  .colab-df-quickchart-complete:disabled,\n",
              "  .colab-df-quickchart-complete:disabled:hover {\n",
              "    background-color: var(--disabled-bg-color);\n",
              "    fill: var(--disabled-fill-color);\n",
              "    box-shadow: none;\n",
              "  }\n",
              "\n",
              "  .colab-df-spinner {\n",
              "    border: 2px solid var(--fill-color);\n",
              "    border-color: transparent;\n",
              "    border-bottom-color: var(--fill-color);\n",
              "    animation:\n",
              "      spin 1s steps(1) infinite;\n",
              "  }\n",
              "\n",
              "  @keyframes spin {\n",
              "    0% {\n",
              "      border-color: transparent;\n",
              "      border-bottom-color: var(--fill-color);\n",
              "      border-left-color: var(--fill-color);\n",
              "    }\n",
              "    20% {\n",
              "      border-color: transparent;\n",
              "      border-left-color: var(--fill-color);\n",
              "      border-top-color: var(--fill-color);\n",
              "    }\n",
              "    30% {\n",
              "      border-color: transparent;\n",
              "      border-left-color: var(--fill-color);\n",
              "      border-top-color: var(--fill-color);\n",
              "      border-right-color: var(--fill-color);\n",
              "    }\n",
              "    40% {\n",
              "      border-color: transparent;\n",
              "      border-right-color: var(--fill-color);\n",
              "      border-top-color: var(--fill-color);\n",
              "    }\n",
              "    60% {\n",
              "      border-color: transparent;\n",
              "      border-right-color: var(--fill-color);\n",
              "    }\n",
              "    80% {\n",
              "      border-color: transparent;\n",
              "      border-right-color: var(--fill-color);\n",
              "      border-bottom-color: var(--fill-color);\n",
              "    }\n",
              "    90% {\n",
              "      border-color: transparent;\n",
              "      border-bottom-color: var(--fill-color);\n",
              "    }\n",
              "  }\n",
              "</style>\n",
              "\n",
              "  <script>\n",
              "    async function quickchart(key) {\n",
              "      const quickchartButtonEl =\n",
              "        document.querySelector('#' + key + ' button');\n",
              "      quickchartButtonEl.disabled = true;  // To prevent multiple clicks.\n",
              "      quickchartButtonEl.classList.add('colab-df-spinner');\n",
              "      try {\n",
              "        const charts = await google.colab.kernel.invokeFunction(\n",
              "            'suggestCharts', [key], {});\n",
              "      } catch (error) {\n",
              "        console.error('Error during call to suggestCharts:', error);\n",
              "      }\n",
              "      quickchartButtonEl.classList.remove('colab-df-spinner');\n",
              "      quickchartButtonEl.classList.add('colab-df-quickchart-complete');\n",
              "    }\n",
              "    (() => {\n",
              "      let quickchartButtonEl =\n",
              "        document.querySelector('#df-51e7472e-6791-43c0-ab0d-611919502edf button');\n",
              "      quickchartButtonEl.style.display =\n",
              "        google.colab.kernel.accessAllowed ? 'block' : 'none';\n",
              "    })();\n",
              "  </script>\n",
              "</div>\n",
              "\n",
              "    </div>\n",
              "  </div>\n"
            ]
          },
          "metadata": {},
          "execution_count": 104
        }
      ],
      "source": [
        "# read in csv file as a DataFrame\n",
        "tr_df = pd.read_csv(tr_path)\n",
        "# explore the first 5 rows\n",
        "tr_df.head()"
      ]
    },
    {
      "cell_type": "markdown",
      "metadata": {
        "papermill": {
          "duration": 0.040751,
          "end_time": "2020-11-18T12:53:44.614212",
          "exception": false,
          "start_time": "2020-11-18T12:53:44.573461",
          "status": "completed"
        },
        "tags": [],
        "id": "jy8DVOWj7rSj"
      },
      "source": [
        "Testing set:"
      ]
    },
    {
      "cell_type": "code",
      "execution_count": 105,
      "metadata": {
        "execution": {
          "iopub.execute_input": "2020-11-18T12:53:44.701815Z",
          "iopub.status.busy": "2020-11-18T12:53:44.701083Z",
          "iopub.status.idle": "2020-11-18T12:53:44.733875Z",
          "shell.execute_reply": "2020-11-18T12:53:44.734329Z"
        },
        "papermill": {
          "duration": 0.079024,
          "end_time": "2020-11-18T12:53:44.734482",
          "exception": false,
          "start_time": "2020-11-18T12:53:44.655458",
          "status": "completed"
        },
        "tags": [],
        "id": "oo1QGfai7rSj",
        "outputId": "6b258c17-ca8d-4d04-f3cc-12e968b823aa",
        "colab": {
          "base_uri": "https://localhost:8080/",
          "height": 313
        }
      },
      "outputs": [
        {
          "output_type": "execute_result",
          "data": {
            "text/plain": [
              "  Item_Identifier  Item_Weight Item_Fat_Content  Item_Visibility    Item_Type  \\\n",
              "0           FDW58       20.750          Low Fat         0.007565  Snack Foods   \n",
              "1           FDW14        8.300              reg         0.038428        Dairy   \n",
              "2           NCN55       14.600          Low Fat         0.099575       Others   \n",
              "3           FDQ58        7.315          Low Fat         0.015388  Snack Foods   \n",
              "4           FDY38          NaN          Regular         0.118599        Dairy   \n",
              "\n",
              "   Item_MRP Outlet_Identifier  Outlet_Establishment_Year Outlet_Size  \\\n",
              "0  107.8622            OUT049                       1999      Medium   \n",
              "1   87.3198            OUT017                       2007         NaN   \n",
              "2  241.7538            OUT010                       1998         NaN   \n",
              "3  155.0340            OUT017                       2007         NaN   \n",
              "4  234.2300            OUT027                       1985      Medium   \n",
              "\n",
              "  Outlet_Location_Type        Outlet_Type  \n",
              "0               Tier 1  Supermarket Type1  \n",
              "1               Tier 2  Supermarket Type1  \n",
              "2               Tier 3      Grocery Store  \n",
              "3               Tier 2  Supermarket Type1  \n",
              "4               Tier 3  Supermarket Type3  "
            ],
            "text/html": [
              "\n",
              "  <div id=\"df-4dd75899-624d-4679-89c0-7543bb7d224e\" class=\"colab-df-container\">\n",
              "    <div>\n",
              "<style scoped>\n",
              "    .dataframe tbody tr th:only-of-type {\n",
              "        vertical-align: middle;\n",
              "    }\n",
              "\n",
              "    .dataframe tbody tr th {\n",
              "        vertical-align: top;\n",
              "    }\n",
              "\n",
              "    .dataframe thead th {\n",
              "        text-align: right;\n",
              "    }\n",
              "</style>\n",
              "<table border=\"1\" class=\"dataframe\">\n",
              "  <thead>\n",
              "    <tr style=\"text-align: right;\">\n",
              "      <th></th>\n",
              "      <th>Item_Identifier</th>\n",
              "      <th>Item_Weight</th>\n",
              "      <th>Item_Fat_Content</th>\n",
              "      <th>Item_Visibility</th>\n",
              "      <th>Item_Type</th>\n",
              "      <th>Item_MRP</th>\n",
              "      <th>Outlet_Identifier</th>\n",
              "      <th>Outlet_Establishment_Year</th>\n",
              "      <th>Outlet_Size</th>\n",
              "      <th>Outlet_Location_Type</th>\n",
              "      <th>Outlet_Type</th>\n",
              "    </tr>\n",
              "  </thead>\n",
              "  <tbody>\n",
              "    <tr>\n",
              "      <th>0</th>\n",
              "      <td>FDW58</td>\n",
              "      <td>20.750</td>\n",
              "      <td>Low Fat</td>\n",
              "      <td>0.007565</td>\n",
              "      <td>Snack Foods</td>\n",
              "      <td>107.8622</td>\n",
              "      <td>OUT049</td>\n",
              "      <td>1999</td>\n",
              "      <td>Medium</td>\n",
              "      <td>Tier 1</td>\n",
              "      <td>Supermarket Type1</td>\n",
              "    </tr>\n",
              "    <tr>\n",
              "      <th>1</th>\n",
              "      <td>FDW14</td>\n",
              "      <td>8.300</td>\n",
              "      <td>reg</td>\n",
              "      <td>0.038428</td>\n",
              "      <td>Dairy</td>\n",
              "      <td>87.3198</td>\n",
              "      <td>OUT017</td>\n",
              "      <td>2007</td>\n",
              "      <td>NaN</td>\n",
              "      <td>Tier 2</td>\n",
              "      <td>Supermarket Type1</td>\n",
              "    </tr>\n",
              "    <tr>\n",
              "      <th>2</th>\n",
              "      <td>NCN55</td>\n",
              "      <td>14.600</td>\n",
              "      <td>Low Fat</td>\n",
              "      <td>0.099575</td>\n",
              "      <td>Others</td>\n",
              "      <td>241.7538</td>\n",
              "      <td>OUT010</td>\n",
              "      <td>1998</td>\n",
              "      <td>NaN</td>\n",
              "      <td>Tier 3</td>\n",
              "      <td>Grocery Store</td>\n",
              "    </tr>\n",
              "    <tr>\n",
              "      <th>3</th>\n",
              "      <td>FDQ58</td>\n",
              "      <td>7.315</td>\n",
              "      <td>Low Fat</td>\n",
              "      <td>0.015388</td>\n",
              "      <td>Snack Foods</td>\n",
              "      <td>155.0340</td>\n",
              "      <td>OUT017</td>\n",
              "      <td>2007</td>\n",
              "      <td>NaN</td>\n",
              "      <td>Tier 2</td>\n",
              "      <td>Supermarket Type1</td>\n",
              "    </tr>\n",
              "    <tr>\n",
              "      <th>4</th>\n",
              "      <td>FDY38</td>\n",
              "      <td>NaN</td>\n",
              "      <td>Regular</td>\n",
              "      <td>0.118599</td>\n",
              "      <td>Dairy</td>\n",
              "      <td>234.2300</td>\n",
              "      <td>OUT027</td>\n",
              "      <td>1985</td>\n",
              "      <td>Medium</td>\n",
              "      <td>Tier 3</td>\n",
              "      <td>Supermarket Type3</td>\n",
              "    </tr>\n",
              "  </tbody>\n",
              "</table>\n",
              "</div>\n",
              "    <div class=\"colab-df-buttons\">\n",
              "\n",
              "  <div class=\"colab-df-container\">\n",
              "    <button class=\"colab-df-convert\" onclick=\"convertToInteractive('df-4dd75899-624d-4679-89c0-7543bb7d224e')\"\n",
              "            title=\"Convert this dataframe to an interactive table.\"\n",
              "            style=\"display:none;\">\n",
              "\n",
              "  <svg xmlns=\"http://www.w3.org/2000/svg\" height=\"24px\" viewBox=\"0 -960 960 960\">\n",
              "    <path d=\"M120-120v-720h720v720H120Zm60-500h600v-160H180v160Zm220 220h160v-160H400v160Zm0 220h160v-160H400v160ZM180-400h160v-160H180v160Zm440 0h160v-160H620v160ZM180-180h160v-160H180v160Zm440 0h160v-160H620v160Z\"/>\n",
              "  </svg>\n",
              "    </button>\n",
              "\n",
              "  <style>\n",
              "    .colab-df-container {\n",
              "      display:flex;\n",
              "      gap: 12px;\n",
              "    }\n",
              "\n",
              "    .colab-df-convert {\n",
              "      background-color: #E8F0FE;\n",
              "      border: none;\n",
              "      border-radius: 50%;\n",
              "      cursor: pointer;\n",
              "      display: none;\n",
              "      fill: #1967D2;\n",
              "      height: 32px;\n",
              "      padding: 0 0 0 0;\n",
              "      width: 32px;\n",
              "    }\n",
              "\n",
              "    .colab-df-convert:hover {\n",
              "      background-color: #E2EBFA;\n",
              "      box-shadow: 0px 1px 2px rgba(60, 64, 67, 0.3), 0px 1px 3px 1px rgba(60, 64, 67, 0.15);\n",
              "      fill: #174EA6;\n",
              "    }\n",
              "\n",
              "    .colab-df-buttons div {\n",
              "      margin-bottom: 4px;\n",
              "    }\n",
              "\n",
              "    [theme=dark] .colab-df-convert {\n",
              "      background-color: #3B4455;\n",
              "      fill: #D2E3FC;\n",
              "    }\n",
              "\n",
              "    [theme=dark] .colab-df-convert:hover {\n",
              "      background-color: #434B5C;\n",
              "      box-shadow: 0px 1px 3px 1px rgba(0, 0, 0, 0.15);\n",
              "      filter: drop-shadow(0px 1px 2px rgba(0, 0, 0, 0.3));\n",
              "      fill: #FFFFFF;\n",
              "    }\n",
              "  </style>\n",
              "\n",
              "    <script>\n",
              "      const buttonEl =\n",
              "        document.querySelector('#df-4dd75899-624d-4679-89c0-7543bb7d224e button.colab-df-convert');\n",
              "      buttonEl.style.display =\n",
              "        google.colab.kernel.accessAllowed ? 'block' : 'none';\n",
              "\n",
              "      async function convertToInteractive(key) {\n",
              "        const element = document.querySelector('#df-4dd75899-624d-4679-89c0-7543bb7d224e');\n",
              "        const dataTable =\n",
              "          await google.colab.kernel.invokeFunction('convertToInteractive',\n",
              "                                                    [key], {});\n",
              "        if (!dataTable) return;\n",
              "\n",
              "        const docLinkHtml = 'Like what you see? Visit the ' +\n",
              "          '<a target=\"_blank\" href=https://colab.research.google.com/notebooks/data_table.ipynb>data table notebook</a>'\n",
              "          + ' to learn more about interactive tables.';\n",
              "        element.innerHTML = '';\n",
              "        dataTable['output_type'] = 'display_data';\n",
              "        await google.colab.output.renderOutput(dataTable, element);\n",
              "        const docLink = document.createElement('div');\n",
              "        docLink.innerHTML = docLinkHtml;\n",
              "        element.appendChild(docLink);\n",
              "      }\n",
              "    </script>\n",
              "  </div>\n",
              "\n",
              "\n",
              "<div id=\"df-e267f8f2-365c-408f-9691-4229c39c22ea\">\n",
              "  <button class=\"colab-df-quickchart\" onclick=\"quickchart('df-e267f8f2-365c-408f-9691-4229c39c22ea')\"\n",
              "            title=\"Suggest charts\"\n",
              "            style=\"display:none;\">\n",
              "\n",
              "<svg xmlns=\"http://www.w3.org/2000/svg\" height=\"24px\"viewBox=\"0 0 24 24\"\n",
              "     width=\"24px\">\n",
              "    <g>\n",
              "        <path d=\"M19 3H5c-1.1 0-2 .9-2 2v14c0 1.1.9 2 2 2h14c1.1 0 2-.9 2-2V5c0-1.1-.9-2-2-2zM9 17H7v-7h2v7zm4 0h-2V7h2v10zm4 0h-2v-4h2v4z\"/>\n",
              "    </g>\n",
              "</svg>\n",
              "  </button>\n",
              "\n",
              "<style>\n",
              "  .colab-df-quickchart {\n",
              "      --bg-color: #E8F0FE;\n",
              "      --fill-color: #1967D2;\n",
              "      --hover-bg-color: #E2EBFA;\n",
              "      --hover-fill-color: #174EA6;\n",
              "      --disabled-fill-color: #AAA;\n",
              "      --disabled-bg-color: #DDD;\n",
              "  }\n",
              "\n",
              "  [theme=dark] .colab-df-quickchart {\n",
              "      --bg-color: #3B4455;\n",
              "      --fill-color: #D2E3FC;\n",
              "      --hover-bg-color: #434B5C;\n",
              "      --hover-fill-color: #FFFFFF;\n",
              "      --disabled-bg-color: #3B4455;\n",
              "      --disabled-fill-color: #666;\n",
              "  }\n",
              "\n",
              "  .colab-df-quickchart {\n",
              "    background-color: var(--bg-color);\n",
              "    border: none;\n",
              "    border-radius: 50%;\n",
              "    cursor: pointer;\n",
              "    display: none;\n",
              "    fill: var(--fill-color);\n",
              "    height: 32px;\n",
              "    padding: 0;\n",
              "    width: 32px;\n",
              "  }\n",
              "\n",
              "  .colab-df-quickchart:hover {\n",
              "    background-color: var(--hover-bg-color);\n",
              "    box-shadow: 0 1px 2px rgba(60, 64, 67, 0.3), 0 1px 3px 1px rgba(60, 64, 67, 0.15);\n",
              "    fill: var(--button-hover-fill-color);\n",
              "  }\n",
              "\n",
              "  .colab-df-quickchart-complete:disabled,\n",
              "  .colab-df-quickchart-complete:disabled:hover {\n",
              "    background-color: var(--disabled-bg-color);\n",
              "    fill: var(--disabled-fill-color);\n",
              "    box-shadow: none;\n",
              "  }\n",
              "\n",
              "  .colab-df-spinner {\n",
              "    border: 2px solid var(--fill-color);\n",
              "    border-color: transparent;\n",
              "    border-bottom-color: var(--fill-color);\n",
              "    animation:\n",
              "      spin 1s steps(1) infinite;\n",
              "  }\n",
              "\n",
              "  @keyframes spin {\n",
              "    0% {\n",
              "      border-color: transparent;\n",
              "      border-bottom-color: var(--fill-color);\n",
              "      border-left-color: var(--fill-color);\n",
              "    }\n",
              "    20% {\n",
              "      border-color: transparent;\n",
              "      border-left-color: var(--fill-color);\n",
              "      border-top-color: var(--fill-color);\n",
              "    }\n",
              "    30% {\n",
              "      border-color: transparent;\n",
              "      border-left-color: var(--fill-color);\n",
              "      border-top-color: var(--fill-color);\n",
              "      border-right-color: var(--fill-color);\n",
              "    }\n",
              "    40% {\n",
              "      border-color: transparent;\n",
              "      border-right-color: var(--fill-color);\n",
              "      border-top-color: var(--fill-color);\n",
              "    }\n",
              "    60% {\n",
              "      border-color: transparent;\n",
              "      border-right-color: var(--fill-color);\n",
              "    }\n",
              "    80% {\n",
              "      border-color: transparent;\n",
              "      border-right-color: var(--fill-color);\n",
              "      border-bottom-color: var(--fill-color);\n",
              "    }\n",
              "    90% {\n",
              "      border-color: transparent;\n",
              "      border-bottom-color: var(--fill-color);\n",
              "    }\n",
              "  }\n",
              "</style>\n",
              "\n",
              "  <script>\n",
              "    async function quickchart(key) {\n",
              "      const quickchartButtonEl =\n",
              "        document.querySelector('#' + key + ' button');\n",
              "      quickchartButtonEl.disabled = true;  // To prevent multiple clicks.\n",
              "      quickchartButtonEl.classList.add('colab-df-spinner');\n",
              "      try {\n",
              "        const charts = await google.colab.kernel.invokeFunction(\n",
              "            'suggestCharts', [key], {});\n",
              "      } catch (error) {\n",
              "        console.error('Error during call to suggestCharts:', error);\n",
              "      }\n",
              "      quickchartButtonEl.classList.remove('colab-df-spinner');\n",
              "      quickchartButtonEl.classList.add('colab-df-quickchart-complete');\n",
              "    }\n",
              "    (() => {\n",
              "      let quickchartButtonEl =\n",
              "        document.querySelector('#df-e267f8f2-365c-408f-9691-4229c39c22ea button');\n",
              "      quickchartButtonEl.style.display =\n",
              "        google.colab.kernel.accessAllowed ? 'block' : 'none';\n",
              "    })();\n",
              "  </script>\n",
              "</div>\n",
              "\n",
              "    </div>\n",
              "  </div>\n"
            ]
          },
          "metadata": {},
          "execution_count": 105
        }
      ],
      "source": [
        "# read in csv file as a DataFrame\n",
        "te_df = pd.read_csv(te_path)\n",
        "# explore the first 5 rows\n",
        "te_df.head()"
      ]
    },
    {
      "cell_type": "markdown",
      "metadata": {
        "papermill": {
          "duration": 0.041367,
          "end_time": "2020-11-18T12:53:44.818013",
          "exception": false,
          "start_time": "2020-11-18T12:53:44.776646",
          "status": "completed"
        },
        "tags": [],
        "id": "2hGniHcA7rSk"
      },
      "source": [
        "Size of each data set:"
      ]
    },
    {
      "cell_type": "code",
      "execution_count": 106,
      "metadata": {
        "execution": {
          "iopub.execute_input": "2020-11-18T12:53:44.907120Z",
          "iopub.status.busy": "2020-11-18T12:53:44.906284Z",
          "iopub.status.idle": "2020-11-18T12:53:44.909217Z",
          "shell.execute_reply": "2020-11-18T12:53:44.909760Z"
        },
        "papermill": {
          "duration": 0.050116,
          "end_time": "2020-11-18T12:53:44.909893",
          "exception": false,
          "start_time": "2020-11-18T12:53:44.859777",
          "status": "completed"
        },
        "tags": [],
        "id": "YSuHdIiE7rSl",
        "outputId": "389ab568-8bee-4fed-d7a5-8cf6629fe9a1",
        "colab": {
          "base_uri": "https://localhost:8080/"
        }
      },
      "outputs": [
        {
          "output_type": "stream",
          "name": "stdout",
          "text": [
            "training set (row, col): (8523, 12)\n",
            "\n",
            "testing set (row, col): (5681, 11)\n"
          ]
        }
      ],
      "source": [
        "print(f\"training set (row, col): {tr_df.shape}\\n\\ntesting set (row, col): {te_df.shape}\")"
      ]
    },
    {
      "cell_type": "markdown",
      "metadata": {
        "papermill": {
          "duration": 0.042001,
          "end_time": "2020-11-18T12:53:44.994140",
          "exception": false,
          "start_time": "2020-11-18T12:53:44.952139",
          "status": "completed"
        },
        "tags": [],
        "id": "3Gve2jL37rSl"
      },
      "source": [
        "### preprocessing of the training dataset"
      ]
    },
    {
      "cell_type": "code",
      "execution_count": 107,
      "metadata": {
        "execution": {
          "iopub.execute_input": "2020-11-18T12:53:45.086655Z",
          "iopub.status.busy": "2020-11-18T12:53:45.082622Z",
          "iopub.status.idle": "2020-11-18T12:53:45.097083Z",
          "shell.execute_reply": "2020-11-18T12:53:45.097873Z"
        },
        "papermill": {
          "duration": 0.061775,
          "end_time": "2020-11-18T12:53:45.098062",
          "exception": false,
          "start_time": "2020-11-18T12:53:45.036287",
          "status": "completed"
        },
        "tags": [],
        "id": "qOnPF-lz7rSm",
        "outputId": "02e3d0a6-47c3-4f15-e77f-c017159da1d6",
        "colab": {
          "base_uri": "https://localhost:8080/"
        }
      },
      "outputs": [
        {
          "output_type": "stream",
          "name": "stdout",
          "text": [
            "<class 'pandas.core.frame.DataFrame'>\n",
            "RangeIndex: 8523 entries, 0 to 8522\n",
            "Data columns (total 12 columns):\n",
            " #   Column                     Non-Null Count  Dtype  \n",
            "---  ------                     --------------  -----  \n",
            " 0   Item_Identifier            8523 non-null   object \n",
            " 1   Item_Weight                7060 non-null   float64\n",
            " 2   Item_Fat_Content           8523 non-null   object \n",
            " 3   Item_Visibility            8523 non-null   float64\n",
            " 4   Item_Type                  8523 non-null   object \n",
            " 5   Item_MRP                   8523 non-null   float64\n",
            " 6   Outlet_Identifier          8523 non-null   object \n",
            " 7   Outlet_Establishment_Year  8523 non-null   int64  \n",
            " 8   Outlet_Size                6113 non-null   object \n",
            " 9   Outlet_Location_Type       8523 non-null   object \n",
            " 10  Outlet_Type                8523 non-null   object \n",
            " 11  Item_Outlet_Sales          8523 non-null   float64\n",
            "dtypes: float64(4), int64(1), object(7)\n",
            "memory usage: 799.2+ KB\n"
          ]
        }
      ],
      "source": [
        "#column information\n",
        "tr_df.info(verbose=True, null_counts=True)"
      ]
    },
    {
      "cell_type": "code",
      "execution_count": 108,
      "metadata": {
        "execution": {
          "iopub.execute_input": "2020-11-18T12:53:45.194628Z",
          "iopub.status.busy": "2020-11-18T12:53:45.193810Z",
          "iopub.status.idle": "2020-11-18T12:53:45.214726Z",
          "shell.execute_reply": "2020-11-18T12:53:45.214106Z"
        },
        "papermill": {
          "duration": 0.072136,
          "end_time": "2020-11-18T12:53:45.214832",
          "exception": false,
          "start_time": "2020-11-18T12:53:45.142696",
          "status": "completed"
        },
        "tags": [],
        "id": "H8SlIZyt7rSm",
        "outputId": "5ff4ec42-6f19-4f9d-d6f4-ce180d4ce32e",
        "colab": {
          "base_uri": "https://localhost:8080/",
          "height": 300
        }
      },
      "outputs": [
        {
          "output_type": "execute_result",
          "data": {
            "text/plain": [
              "       Item_Weight  Item_Visibility     Item_MRP  Outlet_Establishment_Year\n",
              "count  4705.000000      5681.000000  5681.000000                5681.000000\n",
              "mean     12.695633         0.065684   141.023273                1997.828903\n",
              "std       4.664849         0.051252    61.809091                   8.372256\n",
              "min       4.555000         0.000000    31.990000                1985.000000\n",
              "25%       8.645000         0.027047    94.412000                1987.000000\n",
              "50%      12.500000         0.054154   141.415400                1999.000000\n",
              "75%      16.700000         0.093463   186.026600                2004.000000\n",
              "max      21.350000         0.323637   266.588400                2009.000000"
            ],
            "text/html": [
              "\n",
              "  <div id=\"df-b772992a-364b-4e2e-939a-fc8aa296afcb\" class=\"colab-df-container\">\n",
              "    <div>\n",
              "<style scoped>\n",
              "    .dataframe tbody tr th:only-of-type {\n",
              "        vertical-align: middle;\n",
              "    }\n",
              "\n",
              "    .dataframe tbody tr th {\n",
              "        vertical-align: top;\n",
              "    }\n",
              "\n",
              "    .dataframe thead th {\n",
              "        text-align: right;\n",
              "    }\n",
              "</style>\n",
              "<table border=\"1\" class=\"dataframe\">\n",
              "  <thead>\n",
              "    <tr style=\"text-align: right;\">\n",
              "      <th></th>\n",
              "      <th>Item_Weight</th>\n",
              "      <th>Item_Visibility</th>\n",
              "      <th>Item_MRP</th>\n",
              "      <th>Outlet_Establishment_Year</th>\n",
              "    </tr>\n",
              "  </thead>\n",
              "  <tbody>\n",
              "    <tr>\n",
              "      <th>count</th>\n",
              "      <td>4705.000000</td>\n",
              "      <td>5681.000000</td>\n",
              "      <td>5681.000000</td>\n",
              "      <td>5681.000000</td>\n",
              "    </tr>\n",
              "    <tr>\n",
              "      <th>mean</th>\n",
              "      <td>12.695633</td>\n",
              "      <td>0.065684</td>\n",
              "      <td>141.023273</td>\n",
              "      <td>1997.828903</td>\n",
              "    </tr>\n",
              "    <tr>\n",
              "      <th>std</th>\n",
              "      <td>4.664849</td>\n",
              "      <td>0.051252</td>\n",
              "      <td>61.809091</td>\n",
              "      <td>8.372256</td>\n",
              "    </tr>\n",
              "    <tr>\n",
              "      <th>min</th>\n",
              "      <td>4.555000</td>\n",
              "      <td>0.000000</td>\n",
              "      <td>31.990000</td>\n",
              "      <td>1985.000000</td>\n",
              "    </tr>\n",
              "    <tr>\n",
              "      <th>25%</th>\n",
              "      <td>8.645000</td>\n",
              "      <td>0.027047</td>\n",
              "      <td>94.412000</td>\n",
              "      <td>1987.000000</td>\n",
              "    </tr>\n",
              "    <tr>\n",
              "      <th>50%</th>\n",
              "      <td>12.500000</td>\n",
              "      <td>0.054154</td>\n",
              "      <td>141.415400</td>\n",
              "      <td>1999.000000</td>\n",
              "    </tr>\n",
              "    <tr>\n",
              "      <th>75%</th>\n",
              "      <td>16.700000</td>\n",
              "      <td>0.093463</td>\n",
              "      <td>186.026600</td>\n",
              "      <td>2004.000000</td>\n",
              "    </tr>\n",
              "    <tr>\n",
              "      <th>max</th>\n",
              "      <td>21.350000</td>\n",
              "      <td>0.323637</td>\n",
              "      <td>266.588400</td>\n",
              "      <td>2009.000000</td>\n",
              "    </tr>\n",
              "  </tbody>\n",
              "</table>\n",
              "</div>\n",
              "    <div class=\"colab-df-buttons\">\n",
              "\n",
              "  <div class=\"colab-df-container\">\n",
              "    <button class=\"colab-df-convert\" onclick=\"convertToInteractive('df-b772992a-364b-4e2e-939a-fc8aa296afcb')\"\n",
              "            title=\"Convert this dataframe to an interactive table.\"\n",
              "            style=\"display:none;\">\n",
              "\n",
              "  <svg xmlns=\"http://www.w3.org/2000/svg\" height=\"24px\" viewBox=\"0 -960 960 960\">\n",
              "    <path d=\"M120-120v-720h720v720H120Zm60-500h600v-160H180v160Zm220 220h160v-160H400v160Zm0 220h160v-160H400v160ZM180-400h160v-160H180v160Zm440 0h160v-160H620v160ZM180-180h160v-160H180v160Zm440 0h160v-160H620v160Z\"/>\n",
              "  </svg>\n",
              "    </button>\n",
              "\n",
              "  <style>\n",
              "    .colab-df-container {\n",
              "      display:flex;\n",
              "      gap: 12px;\n",
              "    }\n",
              "\n",
              "    .colab-df-convert {\n",
              "      background-color: #E8F0FE;\n",
              "      border: none;\n",
              "      border-radius: 50%;\n",
              "      cursor: pointer;\n",
              "      display: none;\n",
              "      fill: #1967D2;\n",
              "      height: 32px;\n",
              "      padding: 0 0 0 0;\n",
              "      width: 32px;\n",
              "    }\n",
              "\n",
              "    .colab-df-convert:hover {\n",
              "      background-color: #E2EBFA;\n",
              "      box-shadow: 0px 1px 2px rgba(60, 64, 67, 0.3), 0px 1px 3px 1px rgba(60, 64, 67, 0.15);\n",
              "      fill: #174EA6;\n",
              "    }\n",
              "\n",
              "    .colab-df-buttons div {\n",
              "      margin-bottom: 4px;\n",
              "    }\n",
              "\n",
              "    [theme=dark] .colab-df-convert {\n",
              "      background-color: #3B4455;\n",
              "      fill: #D2E3FC;\n",
              "    }\n",
              "\n",
              "    [theme=dark] .colab-df-convert:hover {\n",
              "      background-color: #434B5C;\n",
              "      box-shadow: 0px 1px 3px 1px rgba(0, 0, 0, 0.15);\n",
              "      filter: drop-shadow(0px 1px 2px rgba(0, 0, 0, 0.3));\n",
              "      fill: #FFFFFF;\n",
              "    }\n",
              "  </style>\n",
              "\n",
              "    <script>\n",
              "      const buttonEl =\n",
              "        document.querySelector('#df-b772992a-364b-4e2e-939a-fc8aa296afcb button.colab-df-convert');\n",
              "      buttonEl.style.display =\n",
              "        google.colab.kernel.accessAllowed ? 'block' : 'none';\n",
              "\n",
              "      async function convertToInteractive(key) {\n",
              "        const element = document.querySelector('#df-b772992a-364b-4e2e-939a-fc8aa296afcb');\n",
              "        const dataTable =\n",
              "          await google.colab.kernel.invokeFunction('convertToInteractive',\n",
              "                                                    [key], {});\n",
              "        if (!dataTable) return;\n",
              "\n",
              "        const docLinkHtml = 'Like what you see? Visit the ' +\n",
              "          '<a target=\"_blank\" href=https://colab.research.google.com/notebooks/data_table.ipynb>data table notebook</a>'\n",
              "          + ' to learn more about interactive tables.';\n",
              "        element.innerHTML = '';\n",
              "        dataTable['output_type'] = 'display_data';\n",
              "        await google.colab.output.renderOutput(dataTable, element);\n",
              "        const docLink = document.createElement('div');\n",
              "        docLink.innerHTML = docLinkHtml;\n",
              "        element.appendChild(docLink);\n",
              "      }\n",
              "    </script>\n",
              "  </div>\n",
              "\n",
              "\n",
              "<div id=\"df-f0d930fd-9817-499e-855b-8bf59ace049f\">\n",
              "  <button class=\"colab-df-quickchart\" onclick=\"quickchart('df-f0d930fd-9817-499e-855b-8bf59ace049f')\"\n",
              "            title=\"Suggest charts\"\n",
              "            style=\"display:none;\">\n",
              "\n",
              "<svg xmlns=\"http://www.w3.org/2000/svg\" height=\"24px\"viewBox=\"0 0 24 24\"\n",
              "     width=\"24px\">\n",
              "    <g>\n",
              "        <path d=\"M19 3H5c-1.1 0-2 .9-2 2v14c0 1.1.9 2 2 2h14c1.1 0 2-.9 2-2V5c0-1.1-.9-2-2-2zM9 17H7v-7h2v7zm4 0h-2V7h2v10zm4 0h-2v-4h2v4z\"/>\n",
              "    </g>\n",
              "</svg>\n",
              "  </button>\n",
              "\n",
              "<style>\n",
              "  .colab-df-quickchart {\n",
              "      --bg-color: #E8F0FE;\n",
              "      --fill-color: #1967D2;\n",
              "      --hover-bg-color: #E2EBFA;\n",
              "      --hover-fill-color: #174EA6;\n",
              "      --disabled-fill-color: #AAA;\n",
              "      --disabled-bg-color: #DDD;\n",
              "  }\n",
              "\n",
              "  [theme=dark] .colab-df-quickchart {\n",
              "      --bg-color: #3B4455;\n",
              "      --fill-color: #D2E3FC;\n",
              "      --hover-bg-color: #434B5C;\n",
              "      --hover-fill-color: #FFFFFF;\n",
              "      --disabled-bg-color: #3B4455;\n",
              "      --disabled-fill-color: #666;\n",
              "  }\n",
              "\n",
              "  .colab-df-quickchart {\n",
              "    background-color: var(--bg-color);\n",
              "    border: none;\n",
              "    border-radius: 50%;\n",
              "    cursor: pointer;\n",
              "    display: none;\n",
              "    fill: var(--fill-color);\n",
              "    height: 32px;\n",
              "    padding: 0;\n",
              "    width: 32px;\n",
              "  }\n",
              "\n",
              "  .colab-df-quickchart:hover {\n",
              "    background-color: var(--hover-bg-color);\n",
              "    box-shadow: 0 1px 2px rgba(60, 64, 67, 0.3), 0 1px 3px 1px rgba(60, 64, 67, 0.15);\n",
              "    fill: var(--button-hover-fill-color);\n",
              "  }\n",
              "\n",
              "  .colab-df-quickchart-complete:disabled,\n",
              "  .colab-df-quickchart-complete:disabled:hover {\n",
              "    background-color: var(--disabled-bg-color);\n",
              "    fill: var(--disabled-fill-color);\n",
              "    box-shadow: none;\n",
              "  }\n",
              "\n",
              "  .colab-df-spinner {\n",
              "    border: 2px solid var(--fill-color);\n",
              "    border-color: transparent;\n",
              "    border-bottom-color: var(--fill-color);\n",
              "    animation:\n",
              "      spin 1s steps(1) infinite;\n",
              "  }\n",
              "\n",
              "  @keyframes spin {\n",
              "    0% {\n",
              "      border-color: transparent;\n",
              "      border-bottom-color: var(--fill-color);\n",
              "      border-left-color: var(--fill-color);\n",
              "    }\n",
              "    20% {\n",
              "      border-color: transparent;\n",
              "      border-left-color: var(--fill-color);\n",
              "      border-top-color: var(--fill-color);\n",
              "    }\n",
              "    30% {\n",
              "      border-color: transparent;\n",
              "      border-left-color: var(--fill-color);\n",
              "      border-top-color: var(--fill-color);\n",
              "      border-right-color: var(--fill-color);\n",
              "    }\n",
              "    40% {\n",
              "      border-color: transparent;\n",
              "      border-right-color: var(--fill-color);\n",
              "      border-top-color: var(--fill-color);\n",
              "    }\n",
              "    60% {\n",
              "      border-color: transparent;\n",
              "      border-right-color: var(--fill-color);\n",
              "    }\n",
              "    80% {\n",
              "      border-color: transparent;\n",
              "      border-right-color: var(--fill-color);\n",
              "      border-bottom-color: var(--fill-color);\n",
              "    }\n",
              "    90% {\n",
              "      border-color: transparent;\n",
              "      border-bottom-color: var(--fill-color);\n",
              "    }\n",
              "  }\n",
              "</style>\n",
              "\n",
              "  <script>\n",
              "    async function quickchart(key) {\n",
              "      const quickchartButtonEl =\n",
              "        document.querySelector('#' + key + ' button');\n",
              "      quickchartButtonEl.disabled = true;  // To prevent multiple clicks.\n",
              "      quickchartButtonEl.classList.add('colab-df-spinner');\n",
              "      try {\n",
              "        const charts = await google.colab.kernel.invokeFunction(\n",
              "            'suggestCharts', [key], {});\n",
              "      } catch (error) {\n",
              "        console.error('Error during call to suggestCharts:', error);\n",
              "      }\n",
              "      quickchartButtonEl.classList.remove('colab-df-spinner');\n",
              "      quickchartButtonEl.classList.add('colab-df-quickchart-complete');\n",
              "    }\n",
              "    (() => {\n",
              "      let quickchartButtonEl =\n",
              "        document.querySelector('#df-f0d930fd-9817-499e-855b-8bf59ace049f button');\n",
              "      quickchartButtonEl.style.display =\n",
              "        google.colab.kernel.accessAllowed ? 'block' : 'none';\n",
              "    })();\n",
              "  </script>\n",
              "</div>\n",
              "\n",
              "    </div>\n",
              "  </div>\n"
            ]
          },
          "metadata": {},
          "execution_count": 108
        }
      ],
      "source": [
        "#summary statistics test\n",
        "te_df.describe()"
      ]
    },
    {
      "cell_type": "code",
      "execution_count": 109,
      "metadata": {
        "execution": {
          "iopub.execute_input": "2020-11-18T12:53:45.308437Z",
          "iopub.status.busy": "2020-11-18T12:53:45.307475Z",
          "iopub.status.idle": "2020-11-18T12:53:45.329704Z",
          "shell.execute_reply": "2020-11-18T12:53:45.329054Z"
        },
        "papermill": {
          "duration": 0.071697,
          "end_time": "2020-11-18T12:53:45.329814",
          "exception": false,
          "start_time": "2020-11-18T12:53:45.258117",
          "status": "completed"
        },
        "tags": [],
        "id": "DXUf7c1B7rSn",
        "outputId": "0f8fe42c-e623-4426-bed0-4945b82d6fc5",
        "colab": {
          "base_uri": "https://localhost:8080/",
          "height": 300
        }
      },
      "outputs": [
        {
          "output_type": "execute_result",
          "data": {
            "text/plain": [
              "       Item_Weight  Item_Visibility     Item_MRP  Outlet_Establishment_Year  \\\n",
              "count  7060.000000      8523.000000  8523.000000                8523.000000   \n",
              "mean     12.857645         0.066132   140.992782                1997.831867   \n",
              "std       4.643456         0.051598    62.275067                   8.371760   \n",
              "min       4.555000         0.000000    31.290000                1985.000000   \n",
              "25%       8.773750         0.026989    93.826500                1987.000000   \n",
              "50%      12.600000         0.053931   143.012800                1999.000000   \n",
              "75%      16.850000         0.094585   185.643700                2004.000000   \n",
              "max      21.350000         0.328391   266.888400                2009.000000   \n",
              "\n",
              "       Item_Outlet_Sales  \n",
              "count        8523.000000  \n",
              "mean         2181.288914  \n",
              "std          1706.499616  \n",
              "min            33.290000  \n",
              "25%           834.247400  \n",
              "50%          1794.331000  \n",
              "75%          3101.296400  \n",
              "max         13086.964800  "
            ],
            "text/html": [
              "\n",
              "  <div id=\"df-67652411-c1d1-4ddb-9ec6-e3302da42464\" class=\"colab-df-container\">\n",
              "    <div>\n",
              "<style scoped>\n",
              "    .dataframe tbody tr th:only-of-type {\n",
              "        vertical-align: middle;\n",
              "    }\n",
              "\n",
              "    .dataframe tbody tr th {\n",
              "        vertical-align: top;\n",
              "    }\n",
              "\n",
              "    .dataframe thead th {\n",
              "        text-align: right;\n",
              "    }\n",
              "</style>\n",
              "<table border=\"1\" class=\"dataframe\">\n",
              "  <thead>\n",
              "    <tr style=\"text-align: right;\">\n",
              "      <th></th>\n",
              "      <th>Item_Weight</th>\n",
              "      <th>Item_Visibility</th>\n",
              "      <th>Item_MRP</th>\n",
              "      <th>Outlet_Establishment_Year</th>\n",
              "      <th>Item_Outlet_Sales</th>\n",
              "    </tr>\n",
              "  </thead>\n",
              "  <tbody>\n",
              "    <tr>\n",
              "      <th>count</th>\n",
              "      <td>7060.000000</td>\n",
              "      <td>8523.000000</td>\n",
              "      <td>8523.000000</td>\n",
              "      <td>8523.000000</td>\n",
              "      <td>8523.000000</td>\n",
              "    </tr>\n",
              "    <tr>\n",
              "      <th>mean</th>\n",
              "      <td>12.857645</td>\n",
              "      <td>0.066132</td>\n",
              "      <td>140.992782</td>\n",
              "      <td>1997.831867</td>\n",
              "      <td>2181.288914</td>\n",
              "    </tr>\n",
              "    <tr>\n",
              "      <th>std</th>\n",
              "      <td>4.643456</td>\n",
              "      <td>0.051598</td>\n",
              "      <td>62.275067</td>\n",
              "      <td>8.371760</td>\n",
              "      <td>1706.499616</td>\n",
              "    </tr>\n",
              "    <tr>\n",
              "      <th>min</th>\n",
              "      <td>4.555000</td>\n",
              "      <td>0.000000</td>\n",
              "      <td>31.290000</td>\n",
              "      <td>1985.000000</td>\n",
              "      <td>33.290000</td>\n",
              "    </tr>\n",
              "    <tr>\n",
              "      <th>25%</th>\n",
              "      <td>8.773750</td>\n",
              "      <td>0.026989</td>\n",
              "      <td>93.826500</td>\n",
              "      <td>1987.000000</td>\n",
              "      <td>834.247400</td>\n",
              "    </tr>\n",
              "    <tr>\n",
              "      <th>50%</th>\n",
              "      <td>12.600000</td>\n",
              "      <td>0.053931</td>\n",
              "      <td>143.012800</td>\n",
              "      <td>1999.000000</td>\n",
              "      <td>1794.331000</td>\n",
              "    </tr>\n",
              "    <tr>\n",
              "      <th>75%</th>\n",
              "      <td>16.850000</td>\n",
              "      <td>0.094585</td>\n",
              "      <td>185.643700</td>\n",
              "      <td>2004.000000</td>\n",
              "      <td>3101.296400</td>\n",
              "    </tr>\n",
              "    <tr>\n",
              "      <th>max</th>\n",
              "      <td>21.350000</td>\n",
              "      <td>0.328391</td>\n",
              "      <td>266.888400</td>\n",
              "      <td>2009.000000</td>\n",
              "      <td>13086.964800</td>\n",
              "    </tr>\n",
              "  </tbody>\n",
              "</table>\n",
              "</div>\n",
              "    <div class=\"colab-df-buttons\">\n",
              "\n",
              "  <div class=\"colab-df-container\">\n",
              "    <button class=\"colab-df-convert\" onclick=\"convertToInteractive('df-67652411-c1d1-4ddb-9ec6-e3302da42464')\"\n",
              "            title=\"Convert this dataframe to an interactive table.\"\n",
              "            style=\"display:none;\">\n",
              "\n",
              "  <svg xmlns=\"http://www.w3.org/2000/svg\" height=\"24px\" viewBox=\"0 -960 960 960\">\n",
              "    <path d=\"M120-120v-720h720v720H120Zm60-500h600v-160H180v160Zm220 220h160v-160H400v160Zm0 220h160v-160H400v160ZM180-400h160v-160H180v160Zm440 0h160v-160H620v160ZM180-180h160v-160H180v160Zm440 0h160v-160H620v160Z\"/>\n",
              "  </svg>\n",
              "    </button>\n",
              "\n",
              "  <style>\n",
              "    .colab-df-container {\n",
              "      display:flex;\n",
              "      gap: 12px;\n",
              "    }\n",
              "\n",
              "    .colab-df-convert {\n",
              "      background-color: #E8F0FE;\n",
              "      border: none;\n",
              "      border-radius: 50%;\n",
              "      cursor: pointer;\n",
              "      display: none;\n",
              "      fill: #1967D2;\n",
              "      height: 32px;\n",
              "      padding: 0 0 0 0;\n",
              "      width: 32px;\n",
              "    }\n",
              "\n",
              "    .colab-df-convert:hover {\n",
              "      background-color: #E2EBFA;\n",
              "      box-shadow: 0px 1px 2px rgba(60, 64, 67, 0.3), 0px 1px 3px 1px rgba(60, 64, 67, 0.15);\n",
              "      fill: #174EA6;\n",
              "    }\n",
              "\n",
              "    .colab-df-buttons div {\n",
              "      margin-bottom: 4px;\n",
              "    }\n",
              "\n",
              "    [theme=dark] .colab-df-convert {\n",
              "      background-color: #3B4455;\n",
              "      fill: #D2E3FC;\n",
              "    }\n",
              "\n",
              "    [theme=dark] .colab-df-convert:hover {\n",
              "      background-color: #434B5C;\n",
              "      box-shadow: 0px 1px 3px 1px rgba(0, 0, 0, 0.15);\n",
              "      filter: drop-shadow(0px 1px 2px rgba(0, 0, 0, 0.3));\n",
              "      fill: #FFFFFF;\n",
              "    }\n",
              "  </style>\n",
              "\n",
              "    <script>\n",
              "      const buttonEl =\n",
              "        document.querySelector('#df-67652411-c1d1-4ddb-9ec6-e3302da42464 button.colab-df-convert');\n",
              "      buttonEl.style.display =\n",
              "        google.colab.kernel.accessAllowed ? 'block' : 'none';\n",
              "\n",
              "      async function convertToInteractive(key) {\n",
              "        const element = document.querySelector('#df-67652411-c1d1-4ddb-9ec6-e3302da42464');\n",
              "        const dataTable =\n",
              "          await google.colab.kernel.invokeFunction('convertToInteractive',\n",
              "                                                    [key], {});\n",
              "        if (!dataTable) return;\n",
              "\n",
              "        const docLinkHtml = 'Like what you see? Visit the ' +\n",
              "          '<a target=\"_blank\" href=https://colab.research.google.com/notebooks/data_table.ipynb>data table notebook</a>'\n",
              "          + ' to learn more about interactive tables.';\n",
              "        element.innerHTML = '';\n",
              "        dataTable['output_type'] = 'display_data';\n",
              "        await google.colab.output.renderOutput(dataTable, element);\n",
              "        const docLink = document.createElement('div');\n",
              "        docLink.innerHTML = docLinkHtml;\n",
              "        element.appendChild(docLink);\n",
              "      }\n",
              "    </script>\n",
              "  </div>\n",
              "\n",
              "\n",
              "<div id=\"df-7472ca6a-57dc-4708-99c5-9abab6ede61d\">\n",
              "  <button class=\"colab-df-quickchart\" onclick=\"quickchart('df-7472ca6a-57dc-4708-99c5-9abab6ede61d')\"\n",
              "            title=\"Suggest charts\"\n",
              "            style=\"display:none;\">\n",
              "\n",
              "<svg xmlns=\"http://www.w3.org/2000/svg\" height=\"24px\"viewBox=\"0 0 24 24\"\n",
              "     width=\"24px\">\n",
              "    <g>\n",
              "        <path d=\"M19 3H5c-1.1 0-2 .9-2 2v14c0 1.1.9 2 2 2h14c1.1 0 2-.9 2-2V5c0-1.1-.9-2-2-2zM9 17H7v-7h2v7zm4 0h-2V7h2v10zm4 0h-2v-4h2v4z\"/>\n",
              "    </g>\n",
              "</svg>\n",
              "  </button>\n",
              "\n",
              "<style>\n",
              "  .colab-df-quickchart {\n",
              "      --bg-color: #E8F0FE;\n",
              "      --fill-color: #1967D2;\n",
              "      --hover-bg-color: #E2EBFA;\n",
              "      --hover-fill-color: #174EA6;\n",
              "      --disabled-fill-color: #AAA;\n",
              "      --disabled-bg-color: #DDD;\n",
              "  }\n",
              "\n",
              "  [theme=dark] .colab-df-quickchart {\n",
              "      --bg-color: #3B4455;\n",
              "      --fill-color: #D2E3FC;\n",
              "      --hover-bg-color: #434B5C;\n",
              "      --hover-fill-color: #FFFFFF;\n",
              "      --disabled-bg-color: #3B4455;\n",
              "      --disabled-fill-color: #666;\n",
              "  }\n",
              "\n",
              "  .colab-df-quickchart {\n",
              "    background-color: var(--bg-color);\n",
              "    border: none;\n",
              "    border-radius: 50%;\n",
              "    cursor: pointer;\n",
              "    display: none;\n",
              "    fill: var(--fill-color);\n",
              "    height: 32px;\n",
              "    padding: 0;\n",
              "    width: 32px;\n",
              "  }\n",
              "\n",
              "  .colab-df-quickchart:hover {\n",
              "    background-color: var(--hover-bg-color);\n",
              "    box-shadow: 0 1px 2px rgba(60, 64, 67, 0.3), 0 1px 3px 1px rgba(60, 64, 67, 0.15);\n",
              "    fill: var(--button-hover-fill-color);\n",
              "  }\n",
              "\n",
              "  .colab-df-quickchart-complete:disabled,\n",
              "  .colab-df-quickchart-complete:disabled:hover {\n",
              "    background-color: var(--disabled-bg-color);\n",
              "    fill: var(--disabled-fill-color);\n",
              "    box-shadow: none;\n",
              "  }\n",
              "\n",
              "  .colab-df-spinner {\n",
              "    border: 2px solid var(--fill-color);\n",
              "    border-color: transparent;\n",
              "    border-bottom-color: var(--fill-color);\n",
              "    animation:\n",
              "      spin 1s steps(1) infinite;\n",
              "  }\n",
              "\n",
              "  @keyframes spin {\n",
              "    0% {\n",
              "      border-color: transparent;\n",
              "      border-bottom-color: var(--fill-color);\n",
              "      border-left-color: var(--fill-color);\n",
              "    }\n",
              "    20% {\n",
              "      border-color: transparent;\n",
              "      border-left-color: var(--fill-color);\n",
              "      border-top-color: var(--fill-color);\n",
              "    }\n",
              "    30% {\n",
              "      border-color: transparent;\n",
              "      border-left-color: var(--fill-color);\n",
              "      border-top-color: var(--fill-color);\n",
              "      border-right-color: var(--fill-color);\n",
              "    }\n",
              "    40% {\n",
              "      border-color: transparent;\n",
              "      border-right-color: var(--fill-color);\n",
              "      border-top-color: var(--fill-color);\n",
              "    }\n",
              "    60% {\n",
              "      border-color: transparent;\n",
              "      border-right-color: var(--fill-color);\n",
              "    }\n",
              "    80% {\n",
              "      border-color: transparent;\n",
              "      border-right-color: var(--fill-color);\n",
              "      border-bottom-color: var(--fill-color);\n",
              "    }\n",
              "    90% {\n",
              "      border-color: transparent;\n",
              "      border-bottom-color: var(--fill-color);\n",
              "    }\n",
              "  }\n",
              "</style>\n",
              "\n",
              "  <script>\n",
              "    async function quickchart(key) {\n",
              "      const quickchartButtonEl =\n",
              "        document.querySelector('#' + key + ' button');\n",
              "      quickchartButtonEl.disabled = true;  // To prevent multiple clicks.\n",
              "      quickchartButtonEl.classList.add('colab-df-spinner');\n",
              "      try {\n",
              "        const charts = await google.colab.kernel.invokeFunction(\n",
              "            'suggestCharts', [key], {});\n",
              "      } catch (error) {\n",
              "        console.error('Error during call to suggestCharts:', error);\n",
              "      }\n",
              "      quickchartButtonEl.classList.remove('colab-df-spinner');\n",
              "      quickchartButtonEl.classList.add('colab-df-quickchart-complete');\n",
              "    }\n",
              "    (() => {\n",
              "      let quickchartButtonEl =\n",
              "        document.querySelector('#df-7472ca6a-57dc-4708-99c5-9abab6ede61d button');\n",
              "      quickchartButtonEl.style.display =\n",
              "        google.colab.kernel.accessAllowed ? 'block' : 'none';\n",
              "    })();\n",
              "  </script>\n",
              "</div>\n",
              "\n",
              "    </div>\n",
              "  </div>\n"
            ]
          },
          "metadata": {},
          "execution_count": 109
        }
      ],
      "source": [
        "#summary statistics train\n",
        "tr_df.describe()"
      ]
    },
    {
      "cell_type": "markdown",
      "metadata": {
        "papermill": {
          "duration": 0.043636,
          "end_time": "2020-11-18T12:53:45.423096",
          "exception": false,
          "start_time": "2020-11-18T12:53:45.379460",
          "status": "completed"
        },
        "tags": [],
        "id": "LXNchB5n7rSo"
      },
      "source": [
        "## Missing values"
      ]
    },
    {
      "cell_type": "code",
      "execution_count": 110,
      "metadata": {
        "execution": {
          "iopub.execute_input": "2020-11-18T12:53:45.521619Z",
          "iopub.status.busy": "2020-11-18T12:53:45.520913Z",
          "iopub.status.idle": "2020-11-18T12:53:45.555088Z",
          "shell.execute_reply": "2020-11-18T12:53:45.555596Z"
        },
        "papermill": {
          "duration": 0.088017,
          "end_time": "2020-11-18T12:53:45.555738",
          "exception": false,
          "start_time": "2020-11-18T12:53:45.467721",
          "status": "completed"
        },
        "tags": [],
        "id": "CD03iKvI7rSp",
        "outputId": "29f37648-104b-434e-d599-2c0485cbdc21",
        "colab": {
          "base_uri": "https://localhost:8080/"
        }
      },
      "outputs": [
        {
          "output_type": "stream",
          "name": "stdout",
          "text": [
            "Train:\n",
            "\n",
            "Outlet_Size                  2410\n",
            "Item_Weight                  1463\n",
            "Item_Identifier                 0\n",
            "Item_Fat_Content                0\n",
            "Item_Visibility                 0\n",
            "Item_Type                       0\n",
            "Item_MRP                        0\n",
            "Outlet_Identifier               0\n",
            "Outlet_Establishment_Year       0\n",
            "Outlet_Location_Type            0\n",
            "Outlet_Type                     0\n",
            "Item_Outlet_Sales               0\n",
            "dtype: int64 \n",
            "\n",
            " Item_Identifier               0.000000\n",
            "Item_Weight                  17.165317\n",
            "Item_Fat_Content              0.000000\n",
            "Item_Visibility               0.000000\n",
            "Item_Type                     0.000000\n",
            "Item_MRP                      0.000000\n",
            "Outlet_Identifier             0.000000\n",
            "Outlet_Establishment_Year     0.000000\n",
            "Outlet_Size                  28.276428\n",
            "Outlet_Location_Type          0.000000\n",
            "Outlet_Type                   0.000000\n",
            "Item_Outlet_Sales             0.000000\n",
            "dtype: float64 \n",
            "\n",
            "\n",
            "Test:\n",
            "\n",
            "Outlet_Size                  1606\n",
            "Item_Weight                   976\n",
            "Item_Identifier                 0\n",
            "Item_Fat_Content                0\n",
            "Item_Visibility                 0\n",
            "Item_Type                       0\n",
            "Item_MRP                        0\n",
            "Outlet_Identifier               0\n",
            "Outlet_Establishment_Year       0\n",
            "Outlet_Location_Type            0\n",
            "Outlet_Type                     0\n",
            "dtype: int64 \n",
            "\n",
            " Item_Identifier               0.000000\n",
            "Item_Weight                  17.180074\n",
            "Item_Fat_Content              0.000000\n",
            "Item_Visibility               0.000000\n",
            "Item_Type                     0.000000\n",
            "Item_MRP                      0.000000\n",
            "Outlet_Identifier             0.000000\n",
            "Outlet_Establishment_Year     0.000000\n",
            "Outlet_Size                  28.269671\n",
            "Outlet_Location_Type          0.000000\n",
            "Outlet_Type                   0.000000\n",
            "dtype: float64 \n",
            "\n",
            "\n"
          ]
        }
      ],
      "source": [
        "#missing values in decsending order\n",
        "print(\"Train:\\n\")\n",
        "print(tr_df.isnull().sum().sort_values(ascending=False),\"\\n\\n\",tr_df.isnull().sum()/tr_df.shape[0] *100,\"\\n\\n\")\n",
        "print(\"Test:\\n\")\n",
        "print(te_df.isnull().sum().sort_values(ascending=False),\"\\n\\n\",te_df.isnull().sum()/te_df.shape[0] *100,\"\\n\\n\")"
      ]
    },
    {
      "cell_type": "code",
      "execution_count": 111,
      "metadata": {
        "execution": {
          "iopub.execute_input": "2020-11-18T12:53:45.830420Z",
          "iopub.status.busy": "2020-11-18T12:53:45.829368Z",
          "iopub.status.idle": "2020-11-18T12:53:45.837130Z",
          "shell.execute_reply": "2020-11-18T12:53:45.836514Z"
        },
        "papermill": {
          "duration": 0.059754,
          "end_time": "2020-11-18T12:53:45.837262",
          "exception": false,
          "start_time": "2020-11-18T12:53:45.777508",
          "status": "completed"
        },
        "tags": [],
        "id": "uH_95lwx7rSr",
        "outputId": "3b291b0c-ca4a-48db-9482-90c0e2ce0da6",
        "colab": {
          "base_uri": "https://localhost:8080/"
        }
      },
      "outputs": [
        {
          "output_type": "stream",
          "name": "stdout",
          "text": [
            "Outlet_Size:\n",
            " Medium    2793\n",
            "Small     2388\n",
            "High       932\n",
            "Name: Outlet_Size, dtype: int64 \n",
            "\n",
            "\n",
            "Item_Weight:\n",
            " 12.150    86\n",
            "17.600    82\n",
            "13.650    77\n",
            "11.800    76\n",
            "15.100    68\n",
            "          ..\n",
            "7.275      2\n",
            "7.685      1\n",
            "9.420      1\n",
            "6.520      1\n",
            "5.400      1\n",
            "Name: Item_Weight, Length: 415, dtype: int64 \n",
            "\n",
            "\n"
          ]
        }
      ],
      "source": [
        "print(\"Outlet_Size:\\n\", tr_df.Outlet_Size.value_counts(), \"\\n\\n\")\n",
        "print(\"Item_Weight:\\n\", tr_df.Item_Weight.value_counts(), \"\\n\\n\")"
      ]
    },
    {
      "cell_type": "code",
      "execution_count": 112,
      "metadata": {
        "execution": {
          "iopub.execute_input": "2020-11-18T12:53:46.022711Z",
          "iopub.status.busy": "2020-11-18T12:53:46.021943Z",
          "iopub.status.idle": "2020-11-18T12:53:46.025839Z",
          "shell.execute_reply": "2020-11-18T12:53:46.025352Z"
        },
        "papermill": {
          "duration": 0.055028,
          "end_time": "2020-11-18T12:53:46.025950",
          "exception": false,
          "start_time": "2020-11-18T12:53:45.970922",
          "status": "completed"
        },
        "tags": [],
        "id": "fDc3nBBY7rSs",
        "outputId": "3759404b-ff3f-4e25-b930-cc1caeff5597",
        "colab": {
          "base_uri": "https://localhost:8080/"
        }
      },
      "outputs": [
        {
          "output_type": "stream",
          "name": "stdout",
          "text": [
            "test mode, train mode\n",
            " ['Medium', 'Medium']\n"
          ]
        }
      ],
      "source": [
        "print(\"test mode, train mode\\n\",[tr_df['Outlet_Size'].mode().values[0], te_df['Outlet_Size'].mode().values[0]])"
      ]
    },
    {
      "cell_type": "code",
      "execution_count": 113,
      "metadata": {
        "execution": {
          "iopub.execute_input": "2020-11-18T12:53:46.129751Z",
          "iopub.status.busy": "2020-11-18T12:53:46.125769Z",
          "iopub.status.idle": "2020-11-18T12:53:46.134304Z",
          "shell.execute_reply": "2020-11-18T12:53:46.133695Z"
        },
        "papermill": {
          "duration": 0.063084,
          "end_time": "2020-11-18T12:53:46.134418",
          "exception": false,
          "start_time": "2020-11-18T12:53:46.071334",
          "status": "completed"
        },
        "tags": [],
        "id": "_MSSIl7n7rSt",
        "outputId": "83690f03-a1e6-499f-ceef-d22e84fd6238",
        "colab": {
          "base_uri": "https://localhost:8080/"
        }
      },
      "outputs": [
        {
          "output_type": "execute_result",
          "data": {
            "text/plain": [
              "(0, 0)"
            ]
          },
          "metadata": {},
          "execution_count": 113
        }
      ],
      "source": [
        "#train\n",
        "tr_df['Outlet_Size'] = tr_df['Outlet_Size'].fillna(\n",
        "tr_df['Outlet_Size'].dropna().mode().values[0])\n",
        "\n",
        "#test\n",
        "te_df['Outlet_Size'] = te_df['Outlet_Size'].fillna(\n",
        "te_df['Outlet_Size'].dropna().mode().values[0])\n",
        "\n",
        "#checking if we filled missing values\n",
        "tr_df['Outlet_Size'].isnull().sum(),te_df['Outlet_Size'].isnull().sum()"
      ]
    },
    {
      "cell_type": "code",
      "execution_count": 114,
      "metadata": {
        "execution": {
          "iopub.execute_input": "2020-11-18T12:53:46.322813Z",
          "iopub.status.busy": "2020-11-18T12:53:46.322177Z",
          "iopub.status.idle": "2020-11-18T12:53:46.480639Z",
          "shell.execute_reply": "2020-11-18T12:53:46.481201Z"
        },
        "papermill": {
          "duration": 0.209705,
          "end_time": "2020-11-18T12:53:46.481368",
          "exception": false,
          "start_time": "2020-11-18T12:53:46.271663",
          "status": "completed"
        },
        "tags": [],
        "id": "kPqZqD9L7rSu",
        "outputId": "76aad462-4785-4f0e-a891-7f00a0f53211",
        "colab": {
          "base_uri": "https://localhost:8080/",
          "height": 445
        }
      },
      "outputs": [
        {
          "output_type": "execute_result",
          "data": {
            "text/plain": [
              "Text(0.5, 1.0, 'Item_Weight Boxplot')"
            ]
          },
          "metadata": {},
          "execution_count": 114
        },
        {
          "output_type": "display_data",
          "data": {
            "text/plain": [
              "<Figure size 640x480 with 1 Axes>"
            ],
            "image/png": "[encoded data removed]"
          },
          "metadata": {}
        }
      ],
      "source": [
        "sns.boxplot(data=tr_df['Item_Weight'],orient=\"v\", color = 'g')\n",
        "plt.title(\"Item_Weight Boxplot\")"
      ]
    },
    {
      "cell_type": "code",
      "execution_count": 115,
      "metadata": {
        "execution": {
          "iopub.execute_input": "2020-11-18T12:53:46.674359Z",
          "iopub.status.busy": "2020-11-18T12:53:46.673440Z",
          "iopub.status.idle": "2020-11-18T12:53:46.680748Z",
          "shell.execute_reply": "2020-11-18T12:53:46.681165Z"
        },
        "papermill": {
          "duration": 0.060439,
          "end_time": "2020-11-18T12:53:46.681327",
          "exception": false,
          "start_time": "2020-11-18T12:53:46.620888",
          "status": "completed"
        },
        "tags": [],
        "id": "OH6WSMZ37rTa",
        "outputId": "3f3817e8-eea9-41e9-b555-9bd06900146e",
        "colab": {
          "base_uri": "https://localhost:8080/"
        }
      },
      "outputs": [
        {
          "output_type": "execute_result",
          "data": {
            "text/plain": [
              "(0, 0)"
            ]
          },
          "metadata": {},
          "execution_count": 115
        }
      ],
      "source": [
        "#train\n",
        "tr_df['Item_Weight'] = tr_df['Item_Weight'].fillna(\n",
        "tr_df['Item_Weight'].dropna().mean())\n",
        "\n",
        "#test\n",
        "te_df['Item_Weight'] = te_df['Item_Weight'].fillna(\n",
        "te_df['Item_Weight'].dropna().mean())\n",
        "\n",
        "#checking if we filled missing values\n",
        "tr_df['Item_Weight'].isnull().sum(),te_df['Item_Weight'].isnull().sum()"
      ]
    },
    {
      "cell_type": "code",
      "execution_count": 116,
      "metadata": {
        "execution": {
          "iopub.execute_input": "2020-11-18T12:53:46.878108Z",
          "iopub.status.busy": "2020-11-18T12:53:46.877464Z",
          "iopub.status.idle": "2020-11-18T12:53:46.895257Z",
          "shell.execute_reply": "2020-11-18T12:53:46.895826Z"
        },
        "papermill": {
          "duration": 0.074018,
          "end_time": "2020-11-18T12:53:46.895968",
          "exception": false,
          "start_time": "2020-11-18T12:53:46.821950",
          "status": "completed"
        },
        "tags": [],
        "id": "wdPhg8K07rTc",
        "outputId": "b2772609-19d8-4a45-a7cc-439f1d748780",
        "colab": {
          "base_uri": "https://localhost:8080/"
        }
      },
      "outputs": [
        {
          "output_type": "stream",
          "name": "stdout",
          "text": [
            "train:\n",
            "\n",
            "<class 'pandas.core.frame.DataFrame'>\n",
            "RangeIndex: 8523 entries, 0 to 8522\n",
            "Data columns (total 12 columns):\n",
            " #   Column                     Non-Null Count  Dtype  \n",
            "---  ------                     --------------  -----  \n",
            " 0   Item_Identifier            8523 non-null   object \n",
            " 1   Item_Weight                8523 non-null   float64\n",
            " 2   Item_Fat_Content           8523 non-null   object \n",
            " 3   Item_Visibility            8523 non-null   float64\n",
            " 4   Item_Type                  8523 non-null   object \n",
            " 5   Item_MRP                   8523 non-null   float64\n",
            " 6   Outlet_Identifier          8523 non-null   object \n",
            " 7   Outlet_Establishment_Year  8523 non-null   int64  \n",
            " 8   Outlet_Size                8523 non-null   object \n",
            " 9   Outlet_Location_Type       8523 non-null   object \n",
            " 10  Outlet_Type                8523 non-null   object \n",
            " 11  Item_Outlet_Sales          8523 non-null   float64\n",
            "dtypes: float64(4), int64(1), object(7)\n",
            "memory usage: 799.2+ KB\n",
            "None\n",
            "\n",
            "\n",
            "test:\n",
            "\n",
            "<class 'pandas.core.frame.DataFrame'>\n",
            "RangeIndex: 5681 entries, 0 to 5680\n",
            "Data columns (total 11 columns):\n",
            " #   Column                     Non-Null Count  Dtype  \n",
            "---  ------                     --------------  -----  \n",
            " 0   Item_Identifier            5681 non-null   object \n",
            " 1   Item_Weight                5681 non-null   float64\n",
            " 2   Item_Fat_Content           5681 non-null   object \n",
            " 3   Item_Visibility            5681 non-null   float64\n",
            " 4   Item_Type                  5681 non-null   object \n",
            " 5   Item_MRP                   5681 non-null   float64\n",
            " 6   Outlet_Identifier          5681 non-null   object \n",
            " 7   Outlet_Establishment_Year  5681 non-null   int64  \n",
            " 8   Outlet_Size                5681 non-null   object \n",
            " 9   Outlet_Location_Type       5681 non-null   object \n",
            " 10  Outlet_Type                5681 non-null   object \n",
            "dtypes: float64(3), int64(1), object(7)\n",
            "memory usage: 488.3+ KB\n",
            "None\n"
          ]
        }
      ],
      "source": [
        "print(\"train:\\n\")\n",
        "print(tr_df.info())\n",
        "print(\"\\n\\ntest:\\n\")\n",
        "print(te_df.info())"
      ]
    },
    {
      "cell_type": "markdown",
      "metadata": {
        "papermill": {
          "duration": 0.047257,
          "end_time": "2020-11-18T12:53:47.036616",
          "exception": false,
          "start_time": "2020-11-18T12:53:46.989359",
          "status": "completed"
        },
        "tags": [],
        "id": "lyEVS6zz7rTe"
      },
      "source": [
        "## Data Exploration"
      ]
    },
    {
      "cell_type": "code",
      "execution_count": 117,
      "metadata": {
        "execution": {
          "iopub.execute_input": "2020-11-18T12:53:47.144984Z",
          "iopub.status.busy": "2020-11-18T12:53:47.144310Z",
          "iopub.status.idle": "2020-11-18T12:53:47.161874Z",
          "shell.execute_reply": "2020-11-18T12:53:47.161323Z"
        },
        "papermill": {
          "duration": 0.07791,
          "end_time": "2020-11-18T12:53:47.161983",
          "exception": false,
          "start_time": "2020-11-18T12:53:47.084073",
          "status": "completed"
        },
        "tags": [],
        "id": "7NEvdD1k7rTf",
        "outputId": "e3aff7b2-8dd4-4780-a68b-89c756fad3e7",
        "colab": {
          "base_uri": "https://localhost:8080/"
        }
      },
      "outputs": [
        {
          "output_type": "execute_result",
          "data": {
            "text/plain": [
              "[Low Fat    5089\n",
              " Regular    2889\n",
              " LF          316\n",
              " reg         117\n",
              " low fat     112\n",
              " Name: Item_Fat_Content, dtype: int64,\n",
              " Fruits and Vegetables    1232\n",
              " Snack Foods              1200\n",
              " Household                 910\n",
              " Frozen Foods              856\n",
              " Dairy                     682\n",
              " Canned                    649\n",
              " Baking Goods              648\n",
              " Health and Hygiene        520\n",
              " Soft Drinks               445\n",
              " Meat                      425\n",
              " Breads                    251\n",
              " Hard Drinks               214\n",
              " Others                    169\n",
              " Starchy Foods             148\n",
              " Breakfast                 110\n",
              " Seafood                    64\n",
              " Name: Item_Type, dtype: int64,\n",
              " OUT027    935\n",
              " OUT013    932\n",
              " OUT049    930\n",
              " OUT046    930\n",
              " OUT035    930\n",
              " OUT045    929\n",
              " OUT018    928\n",
              " OUT017    926\n",
              " OUT010    555\n",
              " OUT019    528\n",
              " Name: Outlet_Identifier, dtype: int64,\n",
              " Medium    5203\n",
              " Small     2388\n",
              " High       932\n",
              " Name: Outlet_Size, dtype: int64,\n",
              " Tier 3    3350\n",
              " Tier 2    2785\n",
              " Tier 1    2388\n",
              " Name: Outlet_Location_Type, dtype: int64,\n",
              " Supermarket Type1    5577\n",
              " Grocery Store        1083\n",
              " Supermarket Type3     935\n",
              " Supermarket Type2     928\n",
              " Name: Outlet_Type, dtype: int64]"
            ]
          },
          "metadata": {},
          "execution_count": 117
        }
      ],
      "source": [
        "#list of all the numeric columns\n",
        "num = tr_df.select_dtypes('number').columns.to_list()\n",
        "#list of all the categoric columns\n",
        "cat = tr_df.select_dtypes('object').columns.to_list()\n",
        "\n",
        "#numeric df\n",
        "BM_num =  tr_df[num]\n",
        "#categoric df\n",
        "BM_cat = tr_df[cat]\n",
        "\n",
        "#print(num)\n",
        "#print(cat)\n",
        "\n",
        "[tr_df[category].value_counts() for category in cat[1:]]"
      ]
    },
    {
      "cell_type": "code",
      "execution_count": 118,
      "metadata": {
        "execution": {
          "iopub.execute_input": "2020-11-18T12:53:47.364438Z",
          "iopub.status.busy": "2020-11-18T12:53:47.363531Z",
          "iopub.status.idle": "2020-11-18T12:53:47.379184Z",
          "shell.execute_reply": "2020-11-18T12:53:47.380107Z"
        },
        "papermill": {
          "duration": 0.075515,
          "end_time": "2020-11-18T12:53:47.380365",
          "exception": false,
          "start_time": "2020-11-18T12:53:47.304850",
          "status": "completed"
        },
        "tags": [],
        "id": "R_9kN-Of7rTh",
        "outputId": "bb11c11c-5673-40e4-ecf9-270bb59b731e",
        "colab": {
          "base_uri": "https://localhost:8080/"
        }
      },
      "outputs": [
        {
          "output_type": "execute_result",
          "data": {
            "text/plain": [
              "Low Fat    5517\n",
              "Regular    3006\n",
              "Name: Item_Fat_Content, dtype: int64"
            ]
          },
          "metadata": {},
          "execution_count": 118
        }
      ],
      "source": [
        "#train\n",
        "tr_df['Item_Fat_Content'].replace(['LF', 'low fat', 'reg'],\n",
        "                                  ['Low Fat','Low Fat','Regular'],inplace = True)\n",
        "#test\n",
        "te_df['Item_Fat_Content'].replace(['LF', 'low fat', 'reg'],\n",
        "                                  ['Low Fat','Low Fat','Regular'],inplace = True)\n",
        "\n",
        "#check result\n",
        "tr_df.Item_Fat_Content.value_counts()"
      ]
    },
    {
      "cell_type": "code",
      "execution_count": 119,
      "metadata": {
        "execution": {
          "iopub.execute_input": "2020-11-18T12:53:47.665351Z",
          "iopub.status.busy": "2020-11-18T12:53:47.657684Z",
          "iopub.status.idle": "2020-11-18T12:53:47.669973Z",
          "shell.execute_reply": "2020-11-18T12:53:47.670562Z"
        },
        "papermill": {
          "duration": 0.081037,
          "end_time": "2020-11-18T12:53:47.670709",
          "exception": false,
          "start_time": "2020-11-18T12:53:47.589672",
          "status": "completed"
        },
        "tags": [],
        "id": "qvq2ZSHv7rTj",
        "outputId": "ecf779c1-dcf5-4173-a568-5ffb992c2c03",
        "colab": {
          "base_uri": "https://localhost:8080/",
          "height": 313
        }
      },
      "outputs": [
        {
          "output_type": "execute_result",
          "data": {
            "text/plain": [
              "  Item_Identifier  Item_Weight Item_Fat_Content  Item_Visibility  \\\n",
              "0           FDA15         9.30          Low Fat         0.016047   \n",
              "1           DRC01         5.92          Regular         0.019278   \n",
              "2           FDN15        17.50          Low Fat         0.016760   \n",
              "3           FDX07        19.20          Regular         0.000000   \n",
              "4           NCD19         8.93          Low Fat         0.000000   \n",
              "\n",
              "               Item_Type  Item_MRP Outlet_Identifier  \\\n",
              "0                  Dairy  249.8092            OUT049   \n",
              "1            Soft Drinks   48.2692            OUT018   \n",
              "2                   Meat  141.6180            OUT049   \n",
              "3  Fruits and Vegetables  182.0950            OUT010   \n",
              "4              Household   53.8614            OUT013   \n",
              "\n",
              "   Outlet_Establishment_Year Outlet_Size Outlet_Location_Type  \\\n",
              "0                       1999      Medium               Tier 1   \n",
              "1                       2009      Medium               Tier 3   \n",
              "2                       1999      Medium               Tier 1   \n",
              "3                       1998      Medium               Tier 3   \n",
              "4                       1987        High               Tier 3   \n",
              "\n",
              "         Outlet_Type  Item_Outlet_Sales  \n",
              "0  Supermarket Type1          3735.1380  \n",
              "1  Supermarket Type2           443.4228  \n",
              "2  Supermarket Type1          2097.2700  \n",
              "3      Grocery Store           732.3800  \n",
              "4  Supermarket Type1           994.7052  "
            ],
            "text/html": [
              "\n",
              "  <div id=\"df-b3ee3e48-0d20-481e-8650-39b406d39c1f\" class=\"colab-df-container\">\n",
              "    <div>\n",
              "<style scoped>\n",
              "    .dataframe tbody tr th:only-of-type {\n",
              "        vertical-align: middle;\n",
              "    }\n",
              "\n",
              "    .dataframe tbody tr th {\n",
              "        vertical-align: top;\n",
              "    }\n",
              "\n",
              "    .dataframe thead th {\n",
              "        text-align: right;\n",
              "    }\n",
              "</style>\n",
              "<table border=\"1\" class=\"dataframe\">\n",
              "  <thead>\n",
              "    <tr style=\"text-align: right;\">\n",
              "      <th></th>\n",
              "      <th>Item_Identifier</th>\n",
              "      <th>Item_Weight</th>\n",
              "      <th>Item_Fat_Content</th>\n",
              "      <th>Item_Visibility</th>\n",
              "      <th>Item_Type</th>\n",
              "      <th>Item_MRP</th>\n",
              "      <th>Outlet_Identifier</th>\n",
              "      <th>Outlet_Establishment_Year</th>\n",
              "      <th>Outlet_Size</th>\n",
              "      <th>Outlet_Location_Type</th>\n",
              "      <th>Outlet_Type</th>\n",
              "      <th>Item_Outlet_Sales</th>\n",
              "    </tr>\n",
              "  </thead>\n",
              "  <tbody>\n",
              "    <tr>\n",
              "      <th>0</th>\n",
              "      <td>FDA15</td>\n",
              "      <td>9.30</td>\n",
              "      <td>Low Fat</td>\n",
              "      <td>0.016047</td>\n",
              "      <td>Dairy</td>\n",
              "      <td>249.8092</td>\n",
              "      <td>OUT049</td>\n",
              "      <td>1999</td>\n",
              "      <td>Medium</td>\n",
              "      <td>Tier 1</td>\n",
              "      <td>Supermarket Type1</td>\n",
              "      <td>3735.1380</td>\n",
              "    </tr>\n",
              "    <tr>\n",
              "      <th>1</th>\n",
              "      <td>DRC01</td>\n",
              "      <td>5.92</td>\n",
              "      <td>Regular</td>\n",
              "      <td>0.019278</td>\n",
              "      <td>Soft Drinks</td>\n",
              "      <td>48.2692</td>\n",
              "      <td>OUT018</td>\n",
              "      <td>2009</td>\n",
              "      <td>Medium</td>\n",
              "      <td>Tier 3</td>\n",
              "      <td>Supermarket Type2</td>\n",
              "      <td>443.4228</td>\n",
              "    </tr>\n",
              "    <tr>\n",
              "      <th>2</th>\n",
              "      <td>FDN15</td>\n",
              "      <td>17.50</td>\n",
              "      <td>Low Fat</td>\n",
              "      <td>0.016760</td>\n",
              "      <td>Meat</td>\n",
              "      <td>141.6180</td>\n",
              "      <td>OUT049</td>\n",
              "      <td>1999</td>\n",
              "      <td>Medium</td>\n",
              "      <td>Tier 1</td>\n",
              "      <td>Supermarket Type1</td>\n",
              "      <td>2097.2700</td>\n",
              "    </tr>\n",
              "    <tr>\n",
              "      <th>3</th>\n",
              "      <td>FDX07</td>\n",
              "      <td>19.20</td>\n",
              "      <td>Regular</td>\n",
              "      <td>0.000000</td>\n",
              "      <td>Fruits and Vegetables</td>\n",
              "      <td>182.0950</td>\n",
              "      <td>OUT010</td>\n",
              "      <td>1998</td>\n",
              "      <td>Medium</td>\n",
              "      <td>Tier 3</td>\n",
              "      <td>Grocery Store</td>\n",
              "      <td>732.3800</td>\n",
              "    </tr>\n",
              "    <tr>\n",
              "      <th>4</th>\n",
              "      <td>NCD19</td>\n",
              "      <td>8.93</td>\n",
              "      <td>Low Fat</td>\n",
              "      <td>0.000000</td>\n",
              "      <td>Household</td>\n",
              "      <td>53.8614</td>\n",
              "      <td>OUT013</td>\n",
              "      <td>1987</td>\n",
              "      <td>High</td>\n",
              "      <td>Tier 3</td>\n",
              "      <td>Supermarket Type1</td>\n",
              "      <td>994.7052</td>\n",
              "    </tr>\n",
              "  </tbody>\n",
              "</table>\n",
              "</div>\n",
              "    <div class=\"colab-df-buttons\">\n",
              "\n",
              "  <div class=\"colab-df-container\">\n",
              "    <button class=\"colab-df-convert\" onclick=\"convertToInteractive('df-b3ee3e48-0d20-481e-8650-39b406d39c1f')\"\n",
              "            title=\"Convert this dataframe to an interactive table.\"\n",
              "            style=\"display:none;\">\n",
              "\n",
              "  <svg xmlns=\"http://www.w3.org/2000/svg\" height=\"24px\" viewBox=\"0 -960 960 960\">\n",
              "    <path d=\"M120-120v-720h720v720H120Zm60-500h600v-160H180v160Zm220 220h160v-160H400v160Zm0 220h160v-160H400v160ZM180-400h160v-160H180v160Zm440 0h160v-160H620v160ZM180-180h160v-160H180v160Zm440 0h160v-160H620v160Z\"/>\n",
              "  </svg>\n",
              "    </button>\n",
              "\n",
              "  <style>\n",
              "    .colab-df-container {\n",
              "      display:flex;\n",
              "      gap: 12px;\n",
              "    }\n",
              "\n",
              "    .colab-df-convert {\n",
              "      background-color: #E8F0FE;\n",
              "      border: none;\n",
              "      border-radius: 50%;\n",
              "      cursor: pointer;\n",
              "      display: none;\n",
              "      fill: #1967D2;\n",
              "      height: 32px;\n",
              "      padding: 0 0 0 0;\n",
              "      width: 32px;\n",
              "    }\n",
              "\n",
              "    .colab-df-convert:hover {\n",
              "      background-color: #E2EBFA;\n",
              "      box-shadow: 0px 1px 2px rgba(60, 64, 67, 0.3), 0px 1px 3px 1px rgba(60, 64, 67, 0.15);\n",
              "      fill: #174EA6;\n",
              "    }\n",
              "\n",
              "    .colab-df-buttons div {\n",
              "      margin-bottom: 4px;\n",
              "    }\n",
              "\n",
              "    [theme=dark] .colab-df-convert {\n",
              "      background-color: #3B4455;\n",
              "      fill: #D2E3FC;\n",
              "    }\n",
              "\n",
              "    [theme=dark] .colab-df-convert:hover {\n",
              "      background-color: #434B5C;\n",
              "      box-shadow: 0px 1px 3px 1px rgba(0, 0, 0, 0.15);\n",
              "      filter: drop-shadow(0px 1px 2px rgba(0, 0, 0, 0.3));\n",
              "      fill: #FFFFFF;\n",
              "    }\n",
              "  </style>\n",
              "\n",
              "    <script>\n",
              "      const buttonEl =\n",
              "        document.querySelector('#df-b3ee3e48-0d20-481e-8650-39b406d39c1f button.colab-df-convert');\n",
              "      buttonEl.style.display =\n",
              "        google.colab.kernel.accessAllowed ? 'block' : 'none';\n",
              "\n",
              "      async function convertToInteractive(key) {\n",
              "        const element = document.querySelector('#df-b3ee3e48-0d20-481e-8650-39b406d39c1f');\n",
              "        const dataTable =\n",
              "          await google.colab.kernel.invokeFunction('convertToInteractive',\n",
              "                                                    [key], {});\n",
              "        if (!dataTable) return;\n",
              "\n",
              "        const docLinkHtml = 'Like what you see? Visit the ' +\n",
              "          '<a target=\"_blank\" href=https://colab.research.google.com/notebooks/data_table.ipynb>data table notebook</a>'\n",
              "          + ' to learn more about interactive tables.';\n",
              "        element.innerHTML = '';\n",
              "        dataTable['output_type'] = 'display_data';\n",
              "        await google.colab.output.renderOutput(dataTable, element);\n",
              "        const docLink = document.createElement('div');\n",
              "        docLink.innerHTML = docLinkHtml;\n",
              "        element.appendChild(docLink);\n",
              "      }\n",
              "    </script>\n",
              "  </div>\n",
              "\n",
              "\n",
              "<div id=\"df-c3556c81-2b6a-4a84-9554-6d2e484e0315\">\n",
              "  <button class=\"colab-df-quickchart\" onclick=\"quickchart('df-c3556c81-2b6a-4a84-9554-6d2e484e0315')\"\n",
              "            title=\"Suggest charts\"\n",
              "            style=\"display:none;\">\n",
              "\n",
              "<svg xmlns=\"http://www.w3.org/2000/svg\" height=\"24px\"viewBox=\"0 0 24 24\"\n",
              "     width=\"24px\">\n",
              "    <g>\n",
              "        <path d=\"M19 3H5c-1.1 0-2 .9-2 2v14c0 1.1.9 2 2 2h14c1.1 0 2-.9 2-2V5c0-1.1-.9-2-2-2zM9 17H7v-7h2v7zm4 0h-2V7h2v10zm4 0h-2v-4h2v4z\"/>\n",
              "    </g>\n",
              "</svg>\n",
              "  </button>\n",
              "\n",
              "<style>\n",
              "  .colab-df-quickchart {\n",
              "      --bg-color: #E8F0FE;\n",
              "      --fill-color: #1967D2;\n",
              "      --hover-bg-color: #E2EBFA;\n",
              "      --hover-fill-color: #174EA6;\n",
              "      --disabled-fill-color: #AAA;\n",
              "      --disabled-bg-color: #DDD;\n",
              "  }\n",
              "\n",
              "  [theme=dark] .colab-df-quickchart {\n",
              "      --bg-color: #3B4455;\n",
              "      --fill-color: #D2E3FC;\n",
              "      --hover-bg-color: #434B5C;\n",
              "      --hover-fill-color: #FFFFFF;\n",
              "      --disabled-bg-color: #3B4455;\n",
              "      --disabled-fill-color: #666;\n",
              "  }\n",
              "\n",
              "  .colab-df-quickchart {\n",
              "    background-color: var(--bg-color);\n",
              "    border: none;\n",
              "    border-radius: 50%;\n",
              "    cursor: pointer;\n",
              "    display: none;\n",
              "    fill: var(--fill-color);\n",
              "    height: 32px;\n",
              "    padding: 0;\n",
              "    width: 32px;\n",
              "  }\n",
              "\n",
              "  .colab-df-quickchart:hover {\n",
              "    background-color: var(--hover-bg-color);\n",
              "    box-shadow: 0 1px 2px rgba(60, 64, 67, 0.3), 0 1px 3px 1px rgba(60, 64, 67, 0.15);\n",
              "    fill: var(--button-hover-fill-color);\n",
              "  }\n",
              "\n",
              "  .colab-df-quickchart-complete:disabled,\n",
              "  .colab-df-quickchart-complete:disabled:hover {\n",
              "    background-color: var(--disabled-bg-color);\n",
              "    fill: var(--disabled-fill-color);\n",
              "    box-shadow: none;\n",
              "  }\n",
              "\n",
              "  .colab-df-spinner {\n",
              "    border: 2px solid var(--fill-color);\n",
              "    border-color: transparent;\n",
              "    border-bottom-color: var(--fill-color);\n",
              "    animation:\n",
              "      spin 1s steps(1) infinite;\n",
              "  }\n",
              "\n",
              "  @keyframes spin {\n",
              "    0% {\n",
              "      border-color: transparent;\n",
              "      border-bottom-color: var(--fill-color);\n",
              "      border-left-color: var(--fill-color);\n",
              "    }\n",
              "    20% {\n",
              "      border-color: transparent;\n",
              "      border-left-color: var(--fill-color);\n",
              "      border-top-color: var(--fill-color);\n",
              "    }\n",
              "    30% {\n",
              "      border-color: transparent;\n",
              "      border-left-color: var(--fill-color);\n",
              "      border-top-color: var(--fill-color);\n",
              "      border-right-color: var(--fill-color);\n",
              "    }\n",
              "    40% {\n",
              "      border-color: transparent;\n",
              "      border-right-color: var(--fill-color);\n",
              "      border-top-color: var(--fill-color);\n",
              "    }\n",
              "    60% {\n",
              "      border-color: transparent;\n",
              "      border-right-color: var(--fill-color);\n",
              "    }\n",
              "    80% {\n",
              "      border-color: transparent;\n",
              "      border-right-color: var(--fill-color);\n",
              "      border-bottom-color: var(--fill-color);\n",
              "    }\n",
              "    90% {\n",
              "      border-color: transparent;\n",
              "      border-bottom-color: var(--fill-color);\n",
              "    }\n",
              "  }\n",
              "</style>\n",
              "\n",
              "  <script>\n",
              "    async function quickchart(key) {\n",
              "      const quickchartButtonEl =\n",
              "        document.querySelector('#' + key + ' button');\n",
              "      quickchartButtonEl.disabled = true;  // To prevent multiple clicks.\n",
              "      quickchartButtonEl.classList.add('colab-df-spinner');\n",
              "      try {\n",
              "        const charts = await google.colab.kernel.invokeFunction(\n",
              "            'suggestCharts', [key], {});\n",
              "      } catch (error) {\n",
              "        console.error('Error during call to suggestCharts:', error);\n",
              "      }\n",
              "      quickchartButtonEl.classList.remove('colab-df-spinner');\n",
              "      quickchartButtonEl.classList.add('colab-df-quickchart-complete');\n",
              "    }\n",
              "    (() => {\n",
              "      let quickchartButtonEl =\n",
              "        document.querySelector('#df-c3556c81-2b6a-4a84-9554-6d2e484e0315 button');\n",
              "      quickchartButtonEl.style.display =\n",
              "        google.colab.kernel.accessAllowed ? 'block' : 'none';\n",
              "    })();\n",
              "  </script>\n",
              "</div>\n",
              "\n",
              "    </div>\n",
              "  </div>\n"
            ]
          },
          "metadata": {},
          "execution_count": 119
        }
      ],
      "source": [
        "tr_df.head()"
      ]
    },
    {
      "cell_type": "code",
      "execution_count": 120,
      "metadata": {
        "execution": {
          "iopub.execute_input": "2020-11-18T12:53:47.914492Z",
          "iopub.status.busy": "2020-11-18T12:53:47.913803Z",
          "iopub.status.idle": "2020-11-18T12:53:47.917333Z",
          "shell.execute_reply": "2020-11-18T12:53:47.916801Z"
        },
        "papermill": {
          "duration": 0.07152,
          "end_time": "2020-11-18T12:53:47.917445",
          "exception": false,
          "start_time": "2020-11-18T12:53:47.845925",
          "status": "completed"
        },
        "tags": [],
        "id": "G8z6bb-a7rTm",
        "colab": {
          "base_uri": "https://localhost:8080/"
        },
        "outputId": "0b03f873-e995-4d7d-b6b2-1a708905d242"
      },
      "outputs": [
        {
          "output_type": "execute_result",
          "data": {
            "text/plain": [
              "<bound method NDFrame.head of 0       21\n",
              "1       13\n",
              "2       22\n",
              "3       13\n",
              "4       35\n",
              "        ..\n",
              "5676    23\n",
              "5677    11\n",
              "5678    18\n",
              "5679    13\n",
              "5680    18\n",
              "Name: Outlet_Age, Length: 5681, dtype: int64>"
            ]
          },
          "metadata": {},
          "execution_count": 120
        }
      ],
      "source": [
        "#creating our new column for both datasets\n",
        "tr_df['Outlet_Age'], te_df['Outlet_Age']= tr_df['Outlet_Establishment_Year'].apply(lambda year: 2020 - year), te_df['Outlet_Establishment_Year'].apply(lambda year: 2020 - year)\n",
        "\n",
        "tr_df['Outlet_Age'].head\n",
        "te_df['Outlet_Age'].head"
      ]
    },
    {
      "cell_type": "markdown",
      "metadata": {
        "papermill": {
          "duration": 0.049537,
          "end_time": "2020-11-18T12:53:48.016261",
          "exception": false,
          "start_time": "2020-11-18T12:53:47.966724",
          "status": "completed"
        },
        "tags": [],
        "id": "OPtpreH37rTm"
      },
      "source": [
        "## Data Visualization\n",
        "\n",
        "### Univariate Plots"
      ]
    },
    {
      "cell_type": "code",
      "execution_count": 121,
      "metadata": {
        "execution": {
          "iopub.execute_input": "2020-11-18T12:53:48.126061Z",
          "iopub.status.busy": "2020-11-18T12:53:48.125380Z",
          "iopub.status.idle": "2020-11-18T12:53:48.257551Z",
          "shell.execute_reply": "2020-11-18T12:53:48.257054Z"
        },
        "papermill": {
          "duration": 0.191724,
          "end_time": "2020-11-18T12:53:48.257672",
          "exception": false,
          "start_time": "2020-11-18T12:53:48.065948",
          "status": "completed"
        },
        "tags": [],
        "id": "-fvROizI7rUT",
        "outputId": "eaecdcb5-c3df-4a3b-d384-8f8c86da9a4f",
        "colab": {
          "base_uri": "https://localhost:8080/",
          "height": 397
        }
      },
      "outputs": [
        {
          "output_type": "display_data",
          "data": {
            "text/plain": [
              "<Figure size 600x400 with 1 Axes>"
            ],
            "image/png": "[encoded data removed]"
          },
          "metadata": {}
        }
      ],
      "source": [
        "#categorical columns:\n",
        "['Item_Identifier', 'Item_Fat_Content', 'Item_Type', 'Outlet_Identifier',\n",
        " 'Outlet_Size', 'Outlet_Location_Type', 'Outlet_Type']\n",
        "\n",
        "plt.figure(figsize=(6,4))\n",
        "sns.countplot(x='Item_Fat_Content' , data=tr_df ,palette='mako')\n",
        "plt.xlabel('Item_Fat_Content', fontsize=14)\n",
        "plt.show()"
      ]
    },
    {
      "cell_type": "code",
      "execution_count": 122,
      "metadata": {
        "execution": {
          "iopub.execute_input": "2020-11-18T12:53:48.365994Z",
          "iopub.status.busy": "2020-11-18T12:53:48.365366Z",
          "iopub.status.idle": "2020-11-18T12:53:48.741820Z",
          "shell.execute_reply": "2020-11-18T12:53:48.742417Z"
        },
        "papermill": {
          "duration": 0.434573,
          "end_time": "2020-11-18T12:53:48.742574",
          "exception": false,
          "start_time": "2020-11-18T12:53:48.308001",
          "status": "completed"
        },
        "tags": [],
        "id": "8coQlAym7rUU",
        "outputId": "af65954c-ca1b-488e-99cc-f4df65b25064",
        "colab": {
          "base_uri": "https://localhost:8080/",
          "height": 561
        }
      },
      "outputs": [
        {
          "output_type": "display_data",
          "data": {
            "text/plain": [
              "<Figure size 2700x1000 with 1 Axes>"
            ],
            "image/png": "[encoded data removed]"
          },
          "metadata": {}
        }
      ],
      "source": [
        "plt.figure(figsize=(27,10))\n",
        "sns.countplot(x='Item_Type' , data=tr_df ,palette='summer')\n",
        "plt.xlabel('Item_Type', fontsize=14)\n",
        "plt.show()"
      ]
    },
    {
      "cell_type": "code",
      "execution_count": 123,
      "metadata": {
        "execution": {
          "iopub.execute_input": "2020-11-18T12:53:48.853338Z",
          "iopub.status.busy": "2020-11-18T12:53:48.852351Z",
          "iopub.status.idle": "2020-11-18T12:53:49.040446Z",
          "shell.execute_reply": "2020-11-18T12:53:49.039924Z"
        },
        "papermill": {
          "duration": 0.245555,
          "end_time": "2020-11-18T12:53:49.040578",
          "exception": false,
          "start_time": "2020-11-18T12:53:48.795023",
          "status": "completed"
        },
        "tags": [],
        "id": "inb7LSV67rUV",
        "outputId": "51212733-47ae-488c-a81a-35c7e03fcaec",
        "colab": {
          "base_uri": "https://localhost:8080/",
          "height": 398
        }
      },
      "outputs": [
        {
          "output_type": "display_data",
          "data": {
            "text/plain": [
              "<Figure size 1500x400 with 1 Axes>"
            ],
            "image/png": "[encoded data removed]"
          },
          "metadata": {}
        }
      ],
      "source": [
        "plt.figure(figsize=(15,4))\n",
        "sns.countplot(x='Outlet_Identifier' , data=tr_df ,palette='winter')\n",
        "plt.xlabel('Outlet_Identifier', fontsize=14)\n",
        "plt.show()"
      ]
    },
    {
      "cell_type": "code",
      "execution_count": 124,
      "metadata": {
        "execution": {
          "iopub.execute_input": "2020-11-18T12:53:49.161712Z",
          "iopub.status.busy": "2020-11-18T12:53:49.161042Z",
          "iopub.status.idle": "2020-11-18T12:53:49.291182Z",
          "shell.execute_reply": "2020-11-18T12:53:49.291706Z"
        },
        "papermill": {
          "duration": 0.18967,
          "end_time": "2020-11-18T12:53:49.291863",
          "exception": false,
          "start_time": "2020-11-18T12:53:49.102193",
          "status": "completed"
        },
        "tags": [],
        "id": "Qlfd0Pz97rUW",
        "outputId": "ad4f62b0-3147-4c1b-deb6-4bcc165f0ed4",
        "colab": {
          "base_uri": "https://localhost:8080/",
          "height": 398
        }
      },
      "outputs": [
        {
          "output_type": "display_data",
          "data": {
            "text/plain": [
              "<Figure size 1000x400 with 1 Axes>"
            ],
            "image/png": "[encoded data removed]"
          },
          "metadata": {}
        }
      ],
      "source": [
        "plt.figure(figsize=(10,4))\n",
        "sns.countplot(x='Outlet_Size' , data=tr_df ,palette='autumn')\n",
        "plt.xlabel('Outlet_Size', fontsize=14)\n",
        "plt.show()"
      ]
    },
    {
      "cell_type": "code",
      "execution_count": 125,
      "metadata": {
        "execution": {
          "iopub.execute_input": "2020-11-18T12:53:49.405309Z",
          "iopub.status.busy": "2020-11-18T12:53:49.403889Z",
          "iopub.status.idle": "2020-11-18T12:53:49.545694Z",
          "shell.execute_reply": "2020-11-18T12:53:49.545059Z"
        },
        "papermill": {
          "duration": 0.200462,
          "end_time": "2020-11-18T12:53:49.545805",
          "exception": false,
          "start_time": "2020-11-18T12:53:49.345343",
          "status": "completed"
        },
        "tags": [],
        "id": "jmAXCYDl7rUX",
        "outputId": "5c088d02-6f38-4d67-c815-758d57e60a1d",
        "colab": {
          "base_uri": "https://localhost:8080/",
          "height": 403
        }
      },
      "outputs": [
        {
          "output_type": "display_data",
          "data": {
            "text/plain": [
              "<Figure size 1000x400 with 1 Axes>"
            ],
            "image/png": "[encoded data removed]"
          },
          "metadata": {}
        }
      ],
      "source": [
        "plt.figure(figsize=(10,4))\n",
        "sns.countplot(x='Outlet_Location_Type' , data=tr_df ,palette='twilight_shifted')\n",
        "plt.xlabel('Outlet_Location_Type', fontsize=14)\n",
        "plt.show()"
      ]
    },
    {
      "cell_type": "code",
      "execution_count": 126,
      "metadata": {
        "execution": {
          "iopub.execute_input": "2020-11-18T12:53:49.658790Z",
          "iopub.status.busy": "2020-11-18T12:53:49.658080Z",
          "iopub.status.idle": "2020-11-18T12:53:49.796583Z",
          "shell.execute_reply": "2020-11-18T12:53:49.795940Z"
        },
        "papermill": {
          "duration": 0.197832,
          "end_time": "2020-11-18T12:53:49.796697",
          "exception": false,
          "start_time": "2020-11-18T12:53:49.598865",
          "status": "completed"
        },
        "tags": [],
        "id": "TnUk2kG_7rUa",
        "outputId": "e9649ef0-d6da-4122-9d11-e359f771a68e",
        "colab": {
          "base_uri": "https://localhost:8080/",
          "height": 398
        }
      },
      "outputs": [
        {
          "output_type": "display_data",
          "data": {
            "text/plain": [
              "<Figure size 1000x400 with 1 Axes>"
            ],
            "image/png": "[encoded data removed]"
          },
          "metadata": {}
        }
      ],
      "source": [
        "plt.figure(figsize=(10,4))\n",
        "sns.countplot(x='Outlet_Type' , data=tr_df ,palette='rocket')\n",
        "plt.xlabel('Outlet_Type', fontsize=14)\n",
        "plt.show()"
      ]
    },
    {
      "cell_type": "code",
      "execution_count": 127,
      "metadata": {
        "execution": {
          "iopub.execute_input": "2020-11-18T12:53:50.026016Z",
          "iopub.status.busy": "2020-11-18T12:53:50.018929Z",
          "iopub.status.idle": "2020-11-18T12:53:50.266902Z",
          "shell.execute_reply": "2020-11-18T12:53:50.266320Z"
        },
        "papermill": {
          "duration": 0.308919,
          "end_time": "2020-11-18T12:53:50.267022",
          "exception": false,
          "start_time": "2020-11-18T12:53:49.958103",
          "status": "completed"
        },
        "tags": [],
        "id": "TNV-KsES7rUb",
        "outputId": "c1fc11cf-0c07-4d85-8e9c-fc0c7c473d7c",
        "colab": {
          "base_uri": "https://localhost:8080/",
          "height": 457
        }
      },
      "outputs": [
        {
          "output_type": "display_data",
          "data": {
            "text/plain": [
              "<Figure size 640x480 with 1 Axes>"
            ],
            "image/png": "[encoded data removed]"
          },
          "metadata": {}
        }
      ],
      "source": [
        "#list of all the numeric columns\n",
        "num = tr_df.select_dtypes('number').columns.to_list()\n",
        "#numeric df\n",
        "BM_num =  tr_df[num]\n",
        "\n",
        "plt.hist(tr_df['Outlet_Age'])\n",
        "plt.title(\"Outlet_Age\")\n",
        "plt.show()"
      ]
    },
    {
      "cell_type": "code",
      "execution_count": 128,
      "metadata": {
        "execution": {
          "iopub.execute_input": "2020-11-18T12:53:50.391849Z",
          "iopub.status.busy": "2020-11-18T12:53:50.391101Z",
          "iopub.status.idle": "2020-11-18T12:53:51.166183Z",
          "shell.execute_reply": "2020-11-18T12:53:51.165590Z"
        },
        "papermill": {
          "duration": 0.843561,
          "end_time": "2020-11-18T12:53:51.166311",
          "exception": false,
          "start_time": "2020-11-18T12:53:50.322750",
          "status": "completed"
        },
        "tags": [],
        "id": "YhvhRpma7rUd",
        "outputId": "a1390308-ccf4-4f96-d506-e4ddfef038fc",
        "colab": {
          "base_uri": "https://localhost:8080/",
          "height": 1000
        }
      },
      "outputs": [
        {
          "output_type": "display_data",
          "data": {
            "text/plain": [
              "<Figure size 640x480 with 1 Axes>"
            ],
            "image/png": "[encoded data removed]"
          },
          "metadata": {}
        },
        {
          "output_type": "display_data",
          "data": {
            "text/plain": [
              "<Figure size 640x480 with 1 Axes>"
            ],
            "image/png": "[encoded data removed]"
          },
          "metadata": {}
        },
        {
          "output_type": "display_data",
          "data": {
            "text/plain": [
              "<Figure size 640x480 with 1 Axes>"
            ],
            "image/png": "[encoded data removed]"
          },
          "metadata": {}
        }
      ],
      "source": [
        "for numeric in BM_num[num[:3]]:\n",
        "    plt.scatter(BM_num[numeric], BM_num['Item_Outlet_Sales'])\n",
        "    plt.title(numeric)\n",
        "    plt.ylabel('Item_Outlet_Sales')\n",
        "    plt.show()"
      ]
    },
    {
      "cell_type": "markdown",
      "metadata": {
        "papermill": {
          "duration": 0.058583,
          "end_time": "2020-11-18T12:53:51.405977",
          "exception": false,
          "start_time": "2020-11-18T12:53:51.347394",
          "status": "completed"
        },
        "tags": [],
        "id": "k-8m5kv77rUf"
      },
      "source": [
        "### multivariate plots"
      ]
    },
    {
      "cell_type": "code",
      "execution_count": 129,
      "metadata": {
        "execution": {
          "iopub.execute_input": "2020-11-18T12:53:51.529002Z",
          "iopub.status.busy": "2020-11-18T12:53:51.527695Z",
          "iopub.status.idle": "2020-11-18T12:53:52.283449Z",
          "shell.execute_reply": "2020-11-18T12:53:52.282822Z"
        },
        "papermill": {
          "duration": 0.819076,
          "end_time": "2020-11-18T12:53:52.283558",
          "exception": false,
          "start_time": "2020-11-18T12:53:51.464482",
          "status": "completed"
        },
        "tags": [],
        "id": "YiaicFPt7rUf",
        "outputId": "c68439a6-9edf-4479-f709-70e59a38597f",
        "colab": {
          "base_uri": "https://localhost:8080/",
          "height": 578
        }
      },
      "outputs": [
        {
          "output_type": "stream",
          "name": "stderr",
          "text": [
            "WARNING:matplotlib.legend:No artists with labels found to put in legend.  Note that artists whose label start with an underscore are ignored when legend() is called with no argument.\n"
          ]
        },
        {
          "output_type": "display_data",
          "data": {
            "text/plain": [
              "<Figure size 2700x1000 with 1 Axes>"
            ],
            "image/png": "[encoded data removed]"
          },
          "metadata": {}
        }
      ],
      "source": [
        "plt.figure(figsize=(27,10))\n",
        "sns.barplot(x='Item_Type' ,y='Item_Outlet_Sales', data=tr_df ,palette='gist_rainbow_r')\n",
        "plt.xlabel('Item_Type', fontsize=14)\n",
        "plt.legend()\n",
        "plt.show()"
      ]
    },
    {
      "cell_type": "code",
      "execution_count": 130,
      "metadata": {
        "execution": {
          "iopub.execute_input": "2020-11-18T12:53:52.412463Z",
          "iopub.status.busy": "2020-11-18T12:53:52.411483Z",
          "iopub.status.idle": "2020-11-18T12:53:52.969119Z",
          "shell.execute_reply": "2020-11-18T12:53:52.968487Z"
        },
        "papermill": {
          "duration": 0.624757,
          "end_time": "2020-11-18T12:53:52.969229",
          "exception": false,
          "start_time": "2020-11-18T12:53:52.344472",
          "status": "completed"
        },
        "tags": [],
        "id": "bpZ_W4-I7rUh",
        "outputId": "2d9a4bcc-9937-4c59-d1af-6e87542f60f1",
        "colab": {
          "base_uri": "https://localhost:8080/",
          "height": 580
        }
      },
      "outputs": [
        {
          "output_type": "stream",
          "name": "stderr",
          "text": [
            "WARNING:matplotlib.legend:No artists with labels found to put in legend.  Note that artists whose label start with an underscore are ignored when legend() is called with no argument.\n"
          ]
        },
        {
          "output_type": "display_data",
          "data": {
            "text/plain": [
              "<Figure size 2700x1000 with 1 Axes>"
            ],
            "image/png": "[encoded data removed]"
          },
          "metadata": {}
        }
      ],
      "source": [
        "plt.figure(figsize=(27,10))\n",
        "sns.barplot(x='Outlet_Identifier' ,y='Item_Outlet_Sales', data=tr_df ,palette='gist_rainbow')\n",
        "plt.xlabel('Outlet_Identifier', fontsize=14)\n",
        "plt.legend()\n",
        "plt.show()"
      ]
    },
    {
      "cell_type": "code",
      "execution_count": 131,
      "metadata": {
        "execution": {
          "iopub.execute_input": "2020-11-18T12:53:53.100514Z",
          "iopub.status.busy": "2020-11-18T12:53:53.099583Z",
          "iopub.status.idle": "2020-11-18T12:53:53.403641Z",
          "shell.execute_reply": "2020-11-18T12:53:53.402997Z"
        },
        "papermill": {
          "duration": 0.372809,
          "end_time": "2020-11-18T12:53:53.403770",
          "exception": false,
          "start_time": "2020-11-18T12:53:53.030961",
          "status": "completed"
        },
        "tags": [],
        "id": "20K-gl3Q7rUi",
        "outputId": "bf31e8c7-22fa-4b68-a457-961b423c737a",
        "colab": {
          "base_uri": "https://localhost:8080/",
          "height": 496
        }
      },
      "outputs": [
        {
          "output_type": "stream",
          "name": "stderr",
          "text": [
            "WARNING:matplotlib.legend:No artists with labels found to put in legend.  Note that artists whose label start with an underscore are ignored when legend() is called with no argument.\n"
          ]
        },
        {
          "output_type": "display_data",
          "data": {
            "text/plain": [
              "<Figure size 1000x500 with 1 Axes>"
            ],
            "image/png": "[encoded data removed]"
          },
          "metadata": {}
        }
      ],
      "source": [
        "plt.figure(figsize=(10,5))\n",
        "sns.barplot(x='Outlet_Type' ,y='Item_Outlet_Sales', data=tr_df ,palette='nipy_spectral')\n",
        "plt.xlabel('Outlet_Type', fontsize=14)\n",
        "plt.legend()\n",
        "plt.show()"
      ]
    },
    {
      "cell_type": "code",
      "execution_count": 132,
      "metadata": {
        "execution": {
          "iopub.execute_input": "2020-11-18T12:53:53.534093Z",
          "iopub.status.busy": "2020-11-18T12:53:53.532534Z",
          "iopub.status.idle": "2020-11-18T12:53:53.794377Z",
          "shell.execute_reply": "2020-11-18T12:53:53.794899Z"
        },
        "papermill": {
          "duration": 0.329446,
          "end_time": "2020-11-18T12:53:53.795042",
          "exception": false,
          "start_time": "2020-11-18T12:53:53.465596",
          "status": "completed"
        },
        "tags": [],
        "id": "cox50ARQ7rUj",
        "outputId": "b2f903e2-e3d9-4a7b-9648-47da42d01e28",
        "colab": {
          "base_uri": "https://localhost:8080/",
          "height": 495
        }
      },
      "outputs": [
        {
          "output_type": "stream",
          "name": "stderr",
          "text": [
            "WARNING:matplotlib.legend:No artists with labels found to put in legend.  Note that artists whose label start with an underscore are ignored when legend() is called with no argument.\n"
          ]
        },
        {
          "output_type": "display_data",
          "data": {
            "text/plain": [
              "<Figure size 1000x500 with 1 Axes>"
            ],
            "image/png": "[encoded data removed]"
          },
          "metadata": {}
        }
      ],
      "source": [
        "plt.figure(figsize=(10,5))\n",
        "sns.barplot(x='Outlet_Size' ,y='Item_Outlet_Sales', data=tr_df ,palette='YlOrRd')\n",
        "plt.xlabel('Outlet_Size', fontsize=14)\n",
        "plt.legend()\n",
        "plt.show()"
      ]
    },
    {
      "cell_type": "code",
      "execution_count": 133,
      "metadata": {
        "execution": {
          "iopub.execute_input": "2020-11-18T12:53:53.928056Z",
          "iopub.status.busy": "2020-11-18T12:53:53.927442Z",
          "iopub.status.idle": "2020-11-18T12:53:54.188398Z",
          "shell.execute_reply": "2020-11-18T12:53:54.188873Z"
        },
        "papermill": {
          "duration": 0.331306,
          "end_time": "2020-11-18T12:53:54.189021",
          "exception": false,
          "start_time": "2020-11-18T12:53:53.857715",
          "status": "completed"
        },
        "tags": [],
        "id": "kHXGmN337rUk",
        "outputId": "eef78dd5-45fe-479b-9bfc-ddb73c0c7ef9",
        "colab": {
          "base_uri": "https://localhost:8080/",
          "height": 492
        }
      },
      "outputs": [
        {
          "output_type": "stream",
          "name": "stderr",
          "text": [
            "WARNING:matplotlib.legend:No artists with labels found to put in legend.  Note that artists whose label start with an underscore are ignored when legend() is called with no argument.\n"
          ]
        },
        {
          "output_type": "display_data",
          "data": {
            "text/plain": [
              "<Figure size 1000x500 with 1 Axes>"
            ],
            "image/png": "[encoded data removed]"
          },
          "metadata": {}
        }
      ],
      "source": [
        "plt.figure(figsize=(10,5))\n",
        "sns.barplot(x='Outlet_Location_Type' ,y='Item_Outlet_Sales', data=tr_df ,palette='Spectral')\n",
        "plt.xlabel('Outlet_Location_Type', fontsize=14)\n",
        "plt.legend()\n",
        "plt.show()"
      ]
    },
    {
      "cell_type": "markdown",
      "metadata": {
        "papermill": {
          "duration": 0.063508,
          "end_time": "2020-11-18T12:53:54.444610",
          "exception": false,
          "start_time": "2020-11-18T12:53:54.381102",
          "status": "completed"
        },
        "tags": [],
        "id": "WtpAF00I7rUm"
      },
      "source": [
        "### Corraltion Matrix\n"
      ]
    },
    {
      "cell_type": "code",
      "execution_count": 134,
      "metadata": {
        "execution": {
          "iopub.execute_input": "2020-11-18T12:53:54.579123Z",
          "iopub.status.busy": "2020-11-18T12:53:54.576387Z",
          "iopub.status.idle": "2020-11-18T12:53:54.824232Z",
          "shell.execute_reply": "2020-11-18T12:53:54.823740Z"
        },
        "papermill": {
          "duration": 0.315912,
          "end_time": "2020-11-18T12:53:54.824362",
          "exception": false,
          "start_time": "2020-11-18T12:53:54.508450",
          "status": "completed"
        },
        "tags": [],
        "id": "7yJO38m87rUn",
        "outputId": "30607bae-97e8-41ca-b5fc-7174ffeb421b",
        "colab": {
          "base_uri": "https://localhost:8080/",
          "height": 646
        }
      },
      "outputs": [
        {
          "output_type": "execute_result",
          "data": {
            "text/plain": [
              "<Axes: >"
            ]
          },
          "metadata": {},
          "execution_count": 134
        },
        {
          "output_type": "display_data",
          "data": {
            "text/plain": [
              "<Figure size 640x480 with 2 Axes>"
            ],
            "image/png": "[encoded data removed]"
          },
          "metadata": {}
        }
      ],
      "source": [
        "#plotting the correlation matrix\n",
        "sns.heatmap(tr_df.corr() ,cmap='rocket')"
      ]
    },
    {
      "cell_type": "markdown",
      "metadata": {
        "papermill": {
          "duration": 0.065469,
          "end_time": "2020-11-18T12:53:55.086021",
          "exception": false,
          "start_time": "2020-11-18T12:53:55.020552",
          "status": "completed"
        },
        "tags": [],
        "id": "J59fEfTg7rUp"
      },
      "source": [
        "### Feature Engineering\n"
      ]
    },
    {
      "cell_type": "code",
      "execution_count": 135,
      "metadata": {
        "execution": {
          "iopub.execute_input": "2020-11-18T12:53:55.220916Z",
          "iopub.status.busy": "2020-11-18T12:53:55.220288Z",
          "iopub.status.idle": "2020-11-18T12:53:55.233960Z",
          "shell.execute_reply": "2020-11-18T12:53:55.233472Z"
        },
        "papermill": {
          "duration": 0.083353,
          "end_time": "2020-11-18T12:53:55.234083",
          "exception": false,
          "start_time": "2020-11-18T12:53:55.150730",
          "status": "completed"
        },
        "tags": [],
        "id": "iaft5SVn7rUq",
        "colab": {
          "base_uri": "https://localhost:8080/"
        },
        "outputId": "6160ba9e-3af0-4430-9018-8bbafd3f493c"
      },
      "outputs": [
        {
          "output_type": "execute_result",
          "data": {
            "text/plain": [
              "Item_Identifier         1559\n",
              "Item_Fat_Content           5\n",
              "Item_Type                 16\n",
              "Outlet_Identifier         10\n",
              "Outlet_Size                3\n",
              "Outlet_Location_Type       3\n",
              "Outlet_Type                4\n",
              "dtype: int64"
            ]
          },
          "metadata": {},
          "execution_count": 135
        }
      ],
      "source": [
        "BM_cat.apply(lambda x: x.nunique()) #checking the number of unique values in each column"
      ]
    },
    {
      "cell_type": "code",
      "execution_count": 136,
      "metadata": {
        "execution": {
          "iopub.execute_input": "2020-11-18T12:53:55.400057Z",
          "iopub.status.busy": "2020-11-18T12:53:55.382090Z",
          "iopub.status.idle": "2020-11-18T12:53:55.404373Z",
          "shell.execute_reply": "2020-11-18T12:53:55.403756Z"
        },
        "papermill": {
          "duration": 0.104563,
          "end_time": "2020-11-18T12:53:55.404485",
          "exception": false,
          "start_time": "2020-11-18T12:53:55.299922",
          "status": "completed"
        },
        "tags": [],
        "id": "9q_1q_Wl7rUs",
        "colab": {
          "base_uri": "https://localhost:8080/",
          "height": 313
        },
        "outputId": "f5968c54-8377-4e15-9288-4655cd8ce345"
      },
      "outputs": [
        {
          "output_type": "execute_result",
          "data": {
            "text/plain": [
              "  Item_Identifier  Item_Weight  Item_Fat_Content  Item_Visibility  \\\n",
              "0           FDA15         9.30                 0         0.016047   \n",
              "1           DRC01         5.92                 1         0.019278   \n",
              "2           FDN15        17.50                 0         0.016760   \n",
              "3           FDX07        19.20                 1         0.000000   \n",
              "4           NCD19         8.93                 0         0.000000   \n",
              "\n",
              "               Item_Type  Item_MRP Outlet_Identifier  \\\n",
              "0                  Dairy  249.8092            OUT049   \n",
              "1            Soft Drinks   48.2692            OUT018   \n",
              "2                   Meat  141.6180            OUT049   \n",
              "3  Fruits and Vegetables  182.0950            OUT010   \n",
              "4              Household   53.8614            OUT013   \n",
              "\n",
              "   Outlet_Establishment_Year  Outlet_Size  Outlet_Location_Type  \\\n",
              "0                       1999            1                     0   \n",
              "1                       2009            1                     2   \n",
              "2                       1999            1                     0   \n",
              "3                       1998            1                     2   \n",
              "4                       1987            0                     2   \n",
              "\n",
              "         Outlet_Type  Item_Outlet_Sales  Outlet_Age  \n",
              "0  Supermarket Type1          3735.1380          21  \n",
              "1  Supermarket Type2           443.4228          11  \n",
              "2  Supermarket Type1          2097.2700          21  \n",
              "3      Grocery Store           732.3800          22  \n",
              "4  Supermarket Type1           994.7052          33  "
            ],
            "text/html": [
              "\n",
              "  <div id=\"df-02ea150f-a431-460a-bebe-d67142fea5ed\" class=\"colab-df-container\">\n",
              "    <div>\n",
              "<style scoped>\n",
              "    .dataframe tbody tr th:only-of-type {\n",
              "        vertical-align: middle;\n",
              "    }\n",
              "\n",
              "    .dataframe tbody tr th {\n",
              "        vertical-align: top;\n",
              "    }\n",
              "\n",
              "    .dataframe thead th {\n",
              "        text-align: right;\n",
              "    }\n",
              "</style>\n",
              "<table border=\"1\" class=\"dataframe\">\n",
              "  <thead>\n",
              "    <tr style=\"text-align: right;\">\n",
              "      <th></th>\n",
              "      <th>Item_Identifier</th>\n",
              "      <th>Item_Weight</th>\n",
              "      <th>Item_Fat_Content</th>\n",
              "      <th>Item_Visibility</th>\n",
              "      <th>Item_Type</th>\n",
              "      <th>Item_MRP</th>\n",
              "      <th>Outlet_Identifier</th>\n",
              "      <th>Outlet_Establishment_Year</th>\n",
              "      <th>Outlet_Size</th>\n",
              "      <th>Outlet_Location_Type</th>\n",
              "      <th>Outlet_Type</th>\n",
              "      <th>Item_Outlet_Sales</th>\n",
              "      <th>Outlet_Age</th>\n",
              "    </tr>\n",
              "  </thead>\n",
              "  <tbody>\n",
              "    <tr>\n",
              "      <th>0</th>\n",
              "      <td>FDA15</td>\n",
              "      <td>9.30</td>\n",
              "      <td>0</td>\n",
              "      <td>0.016047</td>\n",
              "      <td>Dairy</td>\n",
              "      <td>249.8092</td>\n",
              "      <td>OUT049</td>\n",
              "      <td>1999</td>\n",
              "      <td>1</td>\n",
              "      <td>0</td>\n",
              "      <td>Supermarket Type1</td>\n",
              "      <td>3735.1380</td>\n",
              "      <td>21</td>\n",
              "    </tr>\n",
              "    <tr>\n",
              "      <th>1</th>\n",
              "      <td>DRC01</td>\n",
              "      <td>5.92</td>\n",
              "      <td>1</td>\n",
              "      <td>0.019278</td>\n",
              "      <td>Soft Drinks</td>\n",
              "      <td>48.2692</td>\n",
              "      <td>OUT018</td>\n",
              "      <td>2009</td>\n",
              "      <td>1</td>\n",
              "      <td>2</td>\n",
              "      <td>Supermarket Type2</td>\n",
              "      <td>443.4228</td>\n",
              "      <td>11</td>\n",
              "    </tr>\n",
              "    <tr>\n",
              "      <th>2</th>\n",
              "      <td>FDN15</td>\n",
              "      <td>17.50</td>\n",
              "      <td>0</td>\n",
              "      <td>0.016760</td>\n",
              "      <td>Meat</td>\n",
              "      <td>141.6180</td>\n",
              "      <td>OUT049</td>\n",
              "      <td>1999</td>\n",
              "      <td>1</td>\n",
              "      <td>0</td>\n",
              "      <td>Supermarket Type1</td>\n",
              "      <td>2097.2700</td>\n",
              "      <td>21</td>\n",
              "    </tr>\n",
              "    <tr>\n",
              "      <th>3</th>\n",
              "      <td>FDX07</td>\n",
              "      <td>19.20</td>\n",
              "      <td>1</td>\n",
              "      <td>0.000000</td>\n",
              "      <td>Fruits and Vegetables</td>\n",
              "      <td>182.0950</td>\n",
              "      <td>OUT010</td>\n",
              "      <td>1998</td>\n",
              "      <td>1</td>\n",
              "      <td>2</td>\n",
              "      <td>Grocery Store</td>\n",
              "      <td>732.3800</td>\n",
              "      <td>22</td>\n",
              "    </tr>\n",
              "    <tr>\n",
              "      <th>4</th>\n",
              "      <td>NCD19</td>\n",
              "      <td>8.93</td>\n",
              "      <td>0</td>\n",
              "      <td>0.000000</td>\n",
              "      <td>Household</td>\n",
              "      <td>53.8614</td>\n",
              "      <td>OUT013</td>\n",
              "      <td>1987</td>\n",
              "      <td>0</td>\n",
              "      <td>2</td>\n",
              "      <td>Supermarket Type1</td>\n",
              "      <td>994.7052</td>\n",
              "      <td>33</td>\n",
              "    </tr>\n",
              "  </tbody>\n",
              "</table>\n",
              "</div>\n",
              "    <div class=\"colab-df-buttons\">\n",
              "\n",
              "  <div class=\"colab-df-container\">\n",
              "    <button class=\"colab-df-convert\" onclick=\"convertToInteractive('df-02ea150f-a431-460a-bebe-d67142fea5ed')\"\n",
              "            title=\"Convert this dataframe to an interactive table.\"\n",
              "            style=\"display:none;\">\n",
              "\n",
              "  <svg xmlns=\"http://www.w3.org/2000/svg\" height=\"24px\" viewBox=\"0 -960 960 960\">\n",
              "    <path d=\"M120-120v-720h720v720H120Zm60-500h600v-160H180v160Zm220 220h160v-160H400v160Zm0 220h160v-160H400v160ZM180-400h160v-160H180v160Zm440 0h160v-160H620v160ZM180-180h160v-160H180v160Zm440 0h160v-160H620v160Z\"/>\n",
              "  </svg>\n",
              "    </button>\n",
              "\n",
              "  <style>\n",
              "    .colab-df-container {\n",
              "      display:flex;\n",
              "      gap: 12px;\n",
              "    }\n",
              "\n",
              "    .colab-df-convert {\n",
              "      background-color: #E8F0FE;\n",
              "      border: none;\n",
              "      border-radius: 50%;\n",
              "      cursor: pointer;\n",
              "      display: none;\n",
              "      fill: #1967D2;\n",
              "      height: 32px;\n",
              "      padding: 0 0 0 0;\n",
              "      width: 32px;\n",
              "    }\n",
              "\n",
              "    .colab-df-convert:hover {\n",
              "      background-color: #E2EBFA;\n",
              "      box-shadow: 0px 1px 2px rgba(60, 64, 67, 0.3), 0px 1px 3px 1px rgba(60, 64, 67, 0.15);\n",
              "      fill: #174EA6;\n",
              "    }\n",
              "\n",
              "    .colab-df-buttons div {\n",
              "      margin-bottom: 4px;\n",
              "    }\n",
              "\n",
              "    [theme=dark] .colab-df-convert {\n",
              "      background-color: #3B4455;\n",
              "      fill: #D2E3FC;\n",
              "    }\n",
              "\n",
              "    [theme=dark] .colab-df-convert:hover {\n",
              "      background-color: #434B5C;\n",
              "      box-shadow: 0px 1px 3px 1px rgba(0, 0, 0, 0.15);\n",
              "      filter: drop-shadow(0px 1px 2px rgba(0, 0, 0, 0.3));\n",
              "      fill: #FFFFFF;\n",
              "    }\n",
              "  </style>\n",
              "\n",
              "    <script>\n",
              "      const buttonEl =\n",
              "        document.querySelector('#df-02ea150f-a431-460a-bebe-d67142fea5ed button.colab-df-convert');\n",
              "      buttonEl.style.display =\n",
              "        google.colab.kernel.accessAllowed ? 'block' : 'none';\n",
              "\n",
              "      async function convertToInteractive(key) {\n",
              "        const element = document.querySelector('#df-02ea150f-a431-460a-bebe-d67142fea5ed');\n",
              "        const dataTable =\n",
              "          await google.colab.kernel.invokeFunction('convertToInteractive',\n",
              "                                                    [key], {});\n",
              "        if (!dataTable) return;\n",
              "\n",
              "        const docLinkHtml = 'Like what you see? Visit the ' +\n",
              "          '<a target=\"_blank\" href=https://colab.research.google.com/notebooks/data_table.ipynb>data table notebook</a>'\n",
              "          + ' to learn more about interactive tables.';\n",
              "        element.innerHTML = '';\n",
              "        dataTable['output_type'] = 'display_data';\n",
              "        await google.colab.output.renderOutput(dataTable, element);\n",
              "        const docLink = document.createElement('div');\n",
              "        docLink.innerHTML = docLinkHtml;\n",
              "        element.appendChild(docLink);\n",
              "      }\n",
              "    </script>\n",
              "  </div>\n",
              "\n",
              "\n",
              "<div id=\"df-c2df41b5-bd7b-49f2-bcff-8814ac777510\">\n",
              "  <button class=\"colab-df-quickchart\" onclick=\"quickchart('df-c2df41b5-bd7b-49f2-bcff-8814ac777510')\"\n",
              "            title=\"Suggest charts\"\n",
              "            style=\"display:none;\">\n",
              "\n",
              "<svg xmlns=\"http://www.w3.org/2000/svg\" height=\"24px\"viewBox=\"0 0 24 24\"\n",
              "     width=\"24px\">\n",
              "    <g>\n",
              "        <path d=\"M19 3H5c-1.1 0-2 .9-2 2v14c0 1.1.9 2 2 2h14c1.1 0 2-.9 2-2V5c0-1.1-.9-2-2-2zM9 17H7v-7h2v7zm4 0h-2V7h2v10zm4 0h-2v-4h2v4z\"/>\n",
              "    </g>\n",
              "</svg>\n",
              "  </button>\n",
              "\n",
              "<style>\n",
              "  .colab-df-quickchart {\n",
              "      --bg-color: #E8F0FE;\n",
              "      --fill-color: #1967D2;\n",
              "      --hover-bg-color: #E2EBFA;\n",
              "      --hover-fill-color: #174EA6;\n",
              "      --disabled-fill-color: #AAA;\n",
              "      --disabled-bg-color: #DDD;\n",
              "  }\n",
              "\n",
              "  [theme=dark] .colab-df-quickchart {\n",
              "      --bg-color: #3B4455;\n",
              "      --fill-color: #D2E3FC;\n",
              "      --hover-bg-color: #434B5C;\n",
              "      --hover-fill-color: #FFFFFF;\n",
              "      --disabled-bg-color: #3B4455;\n",
              "      --disabled-fill-color: #666;\n",
              "  }\n",
              "\n",
              "  .colab-df-quickchart {\n",
              "    background-color: var(--bg-color);\n",
              "    border: none;\n",
              "    border-radius: 50%;\n",
              "    cursor: pointer;\n",
              "    display: none;\n",
              "    fill: var(--fill-color);\n",
              "    height: 32px;\n",
              "    padding: 0;\n",
              "    width: 32px;\n",
              "  }\n",
              "\n",
              "  .colab-df-quickchart:hover {\n",
              "    background-color: var(--hover-bg-color);\n",
              "    box-shadow: 0 1px 2px rgba(60, 64, 67, 0.3), 0 1px 3px 1px rgba(60, 64, 67, 0.15);\n",
              "    fill: var(--button-hover-fill-color);\n",
              "  }\n",
              "\n",
              "  .colab-df-quickchart-complete:disabled,\n",
              "  .colab-df-quickchart-complete:disabled:hover {\n",
              "    background-color: var(--disabled-bg-color);\n",
              "    fill: var(--disabled-fill-color);\n",
              "    box-shadow: none;\n",
              "  }\n",
              "\n",
              "  .colab-df-spinner {\n",
              "    border: 2px solid var(--fill-color);\n",
              "    border-color: transparent;\n",
              "    border-bottom-color: var(--fill-color);\n",
              "    animation:\n",
              "      spin 1s steps(1) infinite;\n",
              "  }\n",
              "\n",
              "  @keyframes spin {\n",
              "    0% {\n",
              "      border-color: transparent;\n",
              "      border-bottom-color: var(--fill-color);\n",
              "      border-left-color: var(--fill-color);\n",
              "    }\n",
              "    20% {\n",
              "      border-color: transparent;\n",
              "      border-left-color: var(--fill-color);\n",
              "      border-top-color: var(--fill-color);\n",
              "    }\n",
              "    30% {\n",
              "      border-color: transparent;\n",
              "      border-left-color: var(--fill-color);\n",
              "      border-top-color: var(--fill-color);\n",
              "      border-right-color: var(--fill-color);\n",
              "    }\n",
              "    40% {\n",
              "      border-color: transparent;\n",
              "      border-right-color: var(--fill-color);\n",
              "      border-top-color: var(--fill-color);\n",
              "    }\n",
              "    60% {\n",
              "      border-color: transparent;\n",
              "      border-right-color: var(--fill-color);\n",
              "    }\n",
              "    80% {\n",
              "      border-color: transparent;\n",
              "      border-right-color: var(--fill-color);\n",
              "      border-bottom-color: var(--fill-color);\n",
              "    }\n",
              "    90% {\n",
              "      border-color: transparent;\n",
              "      border-bottom-color: var(--fill-color);\n",
              "    }\n",
              "  }\n",
              "</style>\n",
              "\n",
              "  <script>\n",
              "    async function quickchart(key) {\n",
              "      const quickchartButtonEl =\n",
              "        document.querySelector('#' + key + ' button');\n",
              "      quickchartButtonEl.disabled = true;  // To prevent multiple clicks.\n",
              "      quickchartButtonEl.classList.add('colab-df-spinner');\n",
              "      try {\n",
              "        const charts = await google.colab.kernel.invokeFunction(\n",
              "            'suggestCharts', [key], {});\n",
              "      } catch (error) {\n",
              "        console.error('Error during call to suggestCharts:', error);\n",
              "      }\n",
              "      quickchartButtonEl.classList.remove('colab-df-spinner');\n",
              "      quickchartButtonEl.classList.add('colab-df-quickchart-complete');\n",
              "    }\n",
              "    (() => {\n",
              "      let quickchartButtonEl =\n",
              "        document.querySelector('#df-c2df41b5-bd7b-49f2-bcff-8814ac777510 button');\n",
              "      quickchartButtonEl.style.display =\n",
              "        google.colab.kernel.accessAllowed ? 'block' : 'none';\n",
              "    })();\n",
              "  </script>\n",
              "</div>\n",
              "\n",
              "    </div>\n",
              "  </div>\n"
            ]
          },
          "metadata": {},
          "execution_count": 136
        }
      ],
      "source": [
        "#lable encoding\n",
        "\n",
        "le = LabelEncoder()\n",
        "Label = ['Item_Fat_Content','Outlet_Size','Outlet_Location_Type']\n",
        "\n",
        "for i in Label:\n",
        "    tr_df[i] = le.fit_transform(tr_df[i])\n",
        "    te_df[i] = le.fit_transform(te_df[i])\n",
        "\n",
        "tr_df.head()"
      ]
    },
    {
      "cell_type": "code",
      "execution_count": 137,
      "metadata": {
        "execution": {
          "iopub.execute_input": "2020-11-18T12:53:55.654808Z",
          "iopub.status.busy": "2020-11-18T12:53:55.650698Z",
          "iopub.status.idle": "2020-11-18T12:53:55.678910Z",
          "shell.execute_reply": "2020-11-18T12:53:55.678361Z"
        },
        "papermill": {
          "duration": 0.208001,
          "end_time": "2020-11-18T12:53:55.679031",
          "exception": false,
          "start_time": "2020-11-18T12:53:55.471030",
          "status": "completed"
        },
        "tags": [],
        "id": "rNeuXASH7rUt"
      },
      "outputs": [],
      "source": [
        "#one hot encoding\n",
        "cols = ['Item_Type','Outlet_Type']\n",
        "# Apply one-hot encoder\n",
        "OH_encoder = OneHotEncoder(handle_unknown='ignore', sparse=False)\n",
        "tr_oh = pd.DataFrame(OH_encoder.fit_transform(tr_df[cols])).astype('int64')\n",
        "te_oh = pd.DataFrame(OH_encoder.fit_transform(te_df[cols])).astype('int64')\n",
        "\n",
        "\n",
        "#get feature columns\n",
        "tr_oh.columns = OH_encoder.get_feature_names_out(cols)\n",
        "te_oh.columns = OH_encoder.get_feature_names_out(cols)\n",
        "\n",
        "# One-hot encoding removed index; put it back\n",
        "tr_oh.index = tr_df.index\n",
        "te_oh.index = te_df.index\n",
        "\n",
        "# Add one-hot encoded columns to our main df new name: tr_fe, te_fe (means feature engeenired)\n",
        "tr_fe = pd.concat([tr_df, tr_oh], axis=1)\n",
        "te_fe = pd.concat([te_df, te_oh], axis=1)"
      ]
    },
    {
      "cell_type": "code",
      "execution_count": 138,
      "metadata": {
        "execution": {
          "iopub.execute_input": "2020-11-18T12:53:55.820491Z",
          "iopub.status.busy": "2020-11-18T12:53:55.819827Z",
          "iopub.status.idle": "2020-11-18T12:53:55.828611Z",
          "shell.execute_reply": "2020-11-18T12:53:55.827970Z"
        },
        "papermill": {
          "duration": 0.083158,
          "end_time": "2020-11-18T12:53:55.828728",
          "exception": false,
          "start_time": "2020-11-18T12:53:55.745570",
          "status": "completed"
        },
        "tags": [],
        "id": "TgZo8b1K7rUu"
      },
      "outputs": [],
      "source": [
        "# Dropping irrelevant columns\n",
        "\n",
        "tr_fe  = tr_fe.drop(['Item_Identifier','Outlet_Identifier','Outlet_Establishment_Year','Outlet_Type','Item_Type'],axis=1)\n",
        "te_fe = te_fe.drop(['Item_Identifier','Outlet_Identifier','Outlet_Establishment_Year','Outlet_Type','Item_Type'],axis=1)"
      ]
    },
    {
      "cell_type": "code",
      "execution_count": 139,
      "metadata": {
        "execution": {
          "iopub.execute_input": "2020-11-18T12:53:55.982752Z",
          "iopub.status.busy": "2020-11-18T12:53:55.981997Z",
          "iopub.status.idle": "2020-11-18T12:53:55.985710Z",
          "shell.execute_reply": "2020-11-18T12:53:55.986141Z"
        },
        "papermill": {
          "duration": 0.091346,
          "end_time": "2020-11-18T12:53:55.986307",
          "exception": false,
          "start_time": "2020-11-18T12:53:55.894961",
          "status": "completed"
        },
        "tags": [],
        "id": "crncbRNp7rUw",
        "colab": {
          "base_uri": "https://localhost:8080/",
          "height": 273
        },
        "outputId": "5c5ee371-37ad-4238-d2f3-9d73b5513cc3"
      },
      "outputs": [
        {
          "output_type": "execute_result",
          "data": {
            "text/plain": [
              "   Item_Weight  Item_Fat_Content  Item_Visibility  Item_MRP  Outlet_Size  \\\n",
              "0         9.30                 0         0.016047  249.8092            1   \n",
              "1         5.92                 1         0.019278   48.2692            1   \n",
              "2        17.50                 0         0.016760  141.6180            1   \n",
              "3        19.20                 1         0.000000  182.0950            1   \n",
              "4         8.93                 0         0.000000   53.8614            0   \n",
              "\n",
              "   Outlet_Location_Type  Item_Outlet_Sales  Outlet_Age  \\\n",
              "0                     0          3735.1380          21   \n",
              "1                     2           443.4228          11   \n",
              "2                     0          2097.2700          21   \n",
              "3                     2           732.3800          22   \n",
              "4                     2           994.7052          33   \n",
              "\n",
              "   Item_Type_Baking Goods  Item_Type_Breads  ...  Item_Type_Meat  \\\n",
              "0                       0                 0  ...               0   \n",
              "1                       0                 0  ...               0   \n",
              "2                       0                 0  ...               1   \n",
              "3                       0                 0  ...               0   \n",
              "4                       0                 0  ...               0   \n",
              "\n",
              "   Item_Type_Others  Item_Type_Seafood  Item_Type_Snack Foods  \\\n",
              "0                 0                  0                      0   \n",
              "1                 0                  0                      0   \n",
              "2                 0                  0                      0   \n",
              "3                 0                  0                      0   \n",
              "4                 0                  0                      0   \n",
              "\n",
              "   Item_Type_Soft Drinks  Item_Type_Starchy Foods  Outlet_Type_Grocery Store  \\\n",
              "0                      0                        0                          0   \n",
              "1                      1                        0                          0   \n",
              "2                      0                        0                          0   \n",
              "3                      0                        0                          1   \n",
              "4                      0                        0                          0   \n",
              "\n",
              "   Outlet_Type_Supermarket Type1  Outlet_Type_Supermarket Type2  \\\n",
              "0                              1                              0   \n",
              "1                              0                              1   \n",
              "2                              1                              0   \n",
              "3                              0                              0   \n",
              "4                              1                              0   \n",
              "\n",
              "   Outlet_Type_Supermarket Type3  \n",
              "0                              0  \n",
              "1                              0  \n",
              "2                              0  \n",
              "3                              0  \n",
              "4                              0  \n",
              "\n",
              "[5 rows x 28 columns]"
            ],
            "text/html": [
              "\n",
              "  <div id=\"df-72228ab2-5384-46bd-9a21-b8397581cd0c\" class=\"colab-df-container\">\n",
              "    <div>\n",
              "<style scoped>\n",
              "    .dataframe tbody tr th:only-of-type {\n",
              "        vertical-align: middle;\n",
              "    }\n",
              "\n",
              "    .dataframe tbody tr th {\n",
              "        vertical-align: top;\n",
              "    }\n",
              "\n",
              "    .dataframe thead th {\n",
              "        text-align: right;\n",
              "    }\n",
              "</style>\n",
              "<table border=\"1\" class=\"dataframe\">\n",
              "  <thead>\n",
              "    <tr style=\"text-align: right;\">\n",
              "      <th></th>\n",
              "      <th>Item_Weight</th>\n",
              "      <th>Item_Fat_Content</th>\n",
              "      <th>Item_Visibility</th>\n",
              "      <th>Item_MRP</th>\n",
              "      <th>Outlet_Size</th>\n",
              "      <th>Outlet_Location_Type</th>\n",
              "      <th>Item_Outlet_Sales</th>\n",
              "      <th>Outlet_Age</th>\n",
              "      <th>Item_Type_Baking Goods</th>\n",
              "      <th>Item_Type_Breads</th>\n",
              "      <th>...</th>\n",
              "      <th>Item_Type_Meat</th>\n",
              "      <th>Item_Type_Others</th>\n",
              "      <th>Item_Type_Seafood</th>\n",
              "      <th>Item_Type_Snack Foods</th>\n",
              "      <th>Item_Type_Soft Drinks</th>\n",
              "      <th>Item_Type_Starchy Foods</th>\n",
              "      <th>Outlet_Type_Grocery Store</th>\n",
              "      <th>Outlet_Type_Supermarket Type1</th>\n",
              "      <th>Outlet_Type_Supermarket Type2</th>\n",
              "      <th>Outlet_Type_Supermarket Type3</th>\n",
              "    </tr>\n",
              "  </thead>\n",
              "  <tbody>\n",
              "    <tr>\n",
              "      <th>0</th>\n",
              "      <td>9.30</td>\n",
              "      <td>0</td>\n",
              "      <td>0.016047</td>\n",
              "      <td>249.8092</td>\n",
              "      <td>1</td>\n",
              "      <td>0</td>\n",
              "      <td>3735.1380</td>\n",
              "      <td>21</td>\n",
              "      <td>0</td>\n",
              "      <td>0</td>\n",
              "      <td>...</td>\n",
              "      <td>0</td>\n",
              "      <td>0</td>\n",
              "      <td>0</td>\n",
              "      <td>0</td>\n",
              "      <td>0</td>\n",
              "      <td>0</td>\n",
              "      <td>0</td>\n",
              "      <td>1</td>\n",
              "      <td>0</td>\n",
              "      <td>0</td>\n",
              "    </tr>\n",
              "    <tr>\n",
              "      <th>1</th>\n",
              "      <td>5.92</td>\n",
              "      <td>1</td>\n",
              "      <td>0.019278</td>\n",
              "      <td>48.2692</td>\n",
              "      <td>1</td>\n",
              "      <td>2</td>\n",
              "      <td>443.4228</td>\n",
              "      <td>11</td>\n",
              "      <td>0</td>\n",
              "      <td>0</td>\n",
              "      <td>...</td>\n",
              "      <td>0</td>\n",
              "      <td>0</td>\n",
              "      <td>0</td>\n",
              "      <td>0</td>\n",
              "      <td>1</td>\n",
              "      <td>0</td>\n",
              "      <td>0</td>\n",
              "      <td>0</td>\n",
              "      <td>1</td>\n",
              "      <td>0</td>\n",
              "    </tr>\n",
              "    <tr>\n",
              "      <th>2</th>\n",
              "      <td>17.50</td>\n",
              "      <td>0</td>\n",
              "      <td>0.016760</td>\n",
              "      <td>141.6180</td>\n",
              "      <td>1</td>\n",
              "      <td>0</td>\n",
              "      <td>2097.2700</td>\n",
              "      <td>21</td>\n",
              "      <td>0</td>\n",
              "      <td>0</td>\n",
              "      <td>...</td>\n",
              "      <td>1</td>\n",
              "      <td>0</td>\n",
              "      <td>0</td>\n",
              "      <td>0</td>\n",
              "      <td>0</td>\n",
              "      <td>0</td>\n",
              "      <td>0</td>\n",
              "      <td>1</td>\n",
              "      <td>0</td>\n",
              "      <td>0</td>\n",
              "    </tr>\n",
              "    <tr>\n",
              "      <th>3</th>\n",
              "      <td>19.20</td>\n",
              "      <td>1</td>\n",
              "      <td>0.000000</td>\n",
              "      <td>182.0950</td>\n",
              "      <td>1</td>\n",
              "      <td>2</td>\n",
              "      <td>732.3800</td>\n",
              "      <td>22</td>\n",
              "      <td>0</td>\n",
              "      <td>0</td>\n",
              "      <td>...</td>\n",
              "      <td>0</td>\n",
              "      <td>0</td>\n",
              "      <td>0</td>\n",
              "      <td>0</td>\n",
              "      <td>0</td>\n",
              "      <td>0</td>\n",
              "      <td>1</td>\n",
              "      <td>0</td>\n",
              "      <td>0</td>\n",
              "      <td>0</td>\n",
              "    </tr>\n",
              "    <tr>\n",
              "      <th>4</th>\n",
              "      <td>8.93</td>\n",
              "      <td>0</td>\n",
              "      <td>0.000000</td>\n",
              "      <td>53.8614</td>\n",
              "      <td>0</td>\n",
              "      <td>2</td>\n",
              "      <td>994.7052</td>\n",
              "      <td>33</td>\n",
              "      <td>0</td>\n",
              "      <td>0</td>\n",
              "      <td>...</td>\n",
              "      <td>0</td>\n",
              "      <td>0</td>\n",
              "      <td>0</td>\n",
              "      <td>0</td>\n",
              "      <td>0</td>\n",
              "      <td>0</td>\n",
              "      <td>0</td>\n",
              "      <td>1</td>\n",
              "      <td>0</td>\n",
              "      <td>0</td>\n",
              "    </tr>\n",
              "  </tbody>\n",
              "</table>\n",
              "<p>5 rows × 28 columns</p>\n",
              "</div>\n",
              "    <div class=\"colab-df-buttons\">\n",
              "\n",
              "  <div class=\"colab-df-container\">\n",
              "    <button class=\"colab-df-convert\" onclick=\"convertToInteractive('df-72228ab2-5384-46bd-9a21-b8397581cd0c')\"\n",
              "            title=\"Convert this dataframe to an interactive table.\"\n",
              "            style=\"display:none;\">\n",
              "\n",
              "  <svg xmlns=\"http://www.w3.org/2000/svg\" height=\"24px\" viewBox=\"0 -960 960 960\">\n",
              "    <path d=\"M120-120v-720h720v720H120Zm60-500h600v-160H180v160Zm220 220h160v-160H400v160Zm0 220h160v-160H400v160ZM180-400h160v-160H180v160Zm440 0h160v-160H620v160ZM180-180h160v-160H180v160Zm440 0h160v-160H620v160Z\"/>\n",
              "  </svg>\n",
              "    </button>\n",
              "\n",
              "  <style>\n",
              "    .colab-df-container {\n",
              "      display:flex;\n",
              "      gap: 12px;\n",
              "    }\n",
              "\n",
              "    .colab-df-convert {\n",
              "      background-color: #E8F0FE;\n",
              "      border: none;\n",
              "      border-radius: 50%;\n",
              "      cursor: pointer;\n",
              "      display: none;\n",
              "      fill: #1967D2;\n",
              "      height: 32px;\n",
              "      padding: 0 0 0 0;\n",
              "      width: 32px;\n",
              "    }\n",
              "\n",
              "    .colab-df-convert:hover {\n",
              "      background-color: #E2EBFA;\n",
              "      box-shadow: 0px 1px 2px rgba(60, 64, 67, 0.3), 0px 1px 3px 1px rgba(60, 64, 67, 0.15);\n",
              "      fill: #174EA6;\n",
              "    }\n",
              "\n",
              "    .colab-df-buttons div {\n",
              "      margin-bottom: 4px;\n",
              "    }\n",
              "\n",
              "    [theme=dark] .colab-df-convert {\n",
              "      background-color: #3B4455;\n",
              "      fill: #D2E3FC;\n",
              "    }\n",
              "\n",
              "    [theme=dark] .colab-df-convert:hover {\n",
              "      background-color: #434B5C;\n",
              "      box-shadow: 0px 1px 3px 1px rgba(0, 0, 0, 0.15);\n",
              "      filter: drop-shadow(0px 1px 2px rgba(0, 0, 0, 0.3));\n",
              "      fill: #FFFFFF;\n",
              "    }\n",
              "  </style>\n",
              "\n",
              "    <script>\n",
              "      const buttonEl =\n",
              "        document.querySelector('#df-72228ab2-5384-46bd-9a21-b8397581cd0c button.colab-df-convert');\n",
              "      buttonEl.style.display =\n",
              "        google.colab.kernel.accessAllowed ? 'block' : 'none';\n",
              "\n",
              "      async function convertToInteractive(key) {\n",
              "        const element = document.querySelector('#df-72228ab2-5384-46bd-9a21-b8397581cd0c');\n",
              "        const dataTable =\n",
              "          await google.colab.kernel.invokeFunction('convertToInteractive',\n",
              "                                                    [key], {});\n",
              "        if (!dataTable) return;\n",
              "\n",
              "        const docLinkHtml = 'Like what you see? Visit the ' +\n",
              "          '<a target=\"_blank\" href=https://colab.research.google.com/notebooks/data_table.ipynb>data table notebook</a>'\n",
              "          + ' to learn more about interactive tables.';\n",
              "        element.innerHTML = '';\n",
              "        dataTable['output_type'] = 'display_data';\n",
              "        await google.colab.output.renderOutput(dataTable, element);\n",
              "        const docLink = document.createElement('div');\n",
              "        docLink.innerHTML = docLinkHtml;\n",
              "        element.appendChild(docLink);\n",
              "      }\n",
              "    </script>\n",
              "  </div>\n",
              "\n",
              "\n",
              "<div id=\"df-02a5f18b-ade5-487f-a20a-2008c9f6692f\">\n",
              "  <button class=\"colab-df-quickchart\" onclick=\"quickchart('df-02a5f18b-ade5-487f-a20a-2008c9f6692f')\"\n",
              "            title=\"Suggest charts\"\n",
              "            style=\"display:none;\">\n",
              "\n",
              "<svg xmlns=\"http://www.w3.org/2000/svg\" height=\"24px\"viewBox=\"0 0 24 24\"\n",
              "     width=\"24px\">\n",
              "    <g>\n",
              "        <path d=\"M19 3H5c-1.1 0-2 .9-2 2v14c0 1.1.9 2 2 2h14c1.1 0 2-.9 2-2V5c0-1.1-.9-2-2-2zM9 17H7v-7h2v7zm4 0h-2V7h2v10zm4 0h-2v-4h2v4z\"/>\n",
              "    </g>\n",
              "</svg>\n",
              "  </button>\n",
              "\n",
              "<style>\n",
              "  .colab-df-quickchart {\n",
              "      --bg-color: #E8F0FE;\n",
              "      --fill-color: #1967D2;\n",
              "      --hover-bg-color: #E2EBFA;\n",
              "      --hover-fill-color: #174EA6;\n",
              "      --disabled-fill-color: #AAA;\n",
              "      --disabled-bg-color: #DDD;\n",
              "  }\n",
              "\n",
              "  [theme=dark] .colab-df-quickchart {\n",
              "      --bg-color: #3B4455;\n",
              "      --fill-color: #D2E3FC;\n",
              "      --hover-bg-color: #434B5C;\n",
              "      --hover-fill-color: #FFFFFF;\n",
              "      --disabled-bg-color: #3B4455;\n",
              "      --disabled-fill-color: #666;\n",
              "  }\n",
              "\n",
              "  .colab-df-quickchart {\n",
              "    background-color: var(--bg-color);\n",
              "    border: none;\n",
              "    border-radius: 50%;\n",
              "    cursor: pointer;\n",
              "    display: none;\n",
              "    fill: var(--fill-color);\n",
              "    height: 32px;\n",
              "    padding: 0;\n",
              "    width: 32px;\n",
              "  }\n",
              "\n",
              "  .colab-df-quickchart:hover {\n",
              "    background-color: var(--hover-bg-color);\n",
              "    box-shadow: 0 1px 2px rgba(60, 64, 67, 0.3), 0 1px 3px 1px rgba(60, 64, 67, 0.15);\n",
              "    fill: var(--button-hover-fill-color);\n",
              "  }\n",
              "\n",
              "  .colab-df-quickchart-complete:disabled,\n",
              "  .colab-df-quickchart-complete:disabled:hover {\n",
              "    background-color: var(--disabled-bg-color);\n",
              "    fill: var(--disabled-fill-color);\n",
              "    box-shadow: none;\n",
              "  }\n",
              "\n",
              "  .colab-df-spinner {\n",
              "    border: 2px solid var(--fill-color);\n",
              "    border-color: transparent;\n",
              "    border-bottom-color: var(--fill-color);\n",
              "    animation:\n",
              "      spin 1s steps(1) infinite;\n",
              "  }\n",
              "\n",
              "  @keyframes spin {\n",
              "    0% {\n",
              "      border-color: transparent;\n",
              "      border-bottom-color: var(--fill-color);\n",
              "      border-left-color: var(--fill-color);\n",
              "    }\n",
              "    20% {\n",
              "      border-color: transparent;\n",
              "      border-left-color: var(--fill-color);\n",
              "      border-top-color: var(--fill-color);\n",
              "    }\n",
              "    30% {\n",
              "      border-color: transparent;\n",
              "      border-left-color: var(--fill-color);\n",
              "      border-top-color: var(--fill-color);\n",
              "      border-right-color: var(--fill-color);\n",
              "    }\n",
              "    40% {\n",
              "      border-color: transparent;\n",
              "      border-right-color: var(--fill-color);\n",
              "      border-top-color: var(--fill-color);\n",
              "    }\n",
              "    60% {\n",
              "      border-color: transparent;\n",
              "      border-right-color: var(--fill-color);\n",
              "    }\n",
              "    80% {\n",
              "      border-color: transparent;\n",
              "      border-right-color: var(--fill-color);\n",
              "      border-bottom-color: var(--fill-color);\n",
              "    }\n",
              "    90% {\n",
              "      border-color: transparent;\n",
              "      border-bottom-color: var(--fill-color);\n",
              "    }\n",
              "  }\n",
              "</style>\n",
              "\n",
              "  <script>\n",
              "    async function quickchart(key) {\n",
              "      const quickchartButtonEl =\n",
              "        document.querySelector('#' + key + ' button');\n",
              "      quickchartButtonEl.disabled = true;  // To prevent multiple clicks.\n",
              "      quickchartButtonEl.classList.add('colab-df-spinner');\n",
              "      try {\n",
              "        const charts = await google.colab.kernel.invokeFunction(\n",
              "            'suggestCharts', [key], {});\n",
              "      } catch (error) {\n",
              "        console.error('Error during call to suggestCharts:', error);\n",
              "      }\n",
              "      quickchartButtonEl.classList.remove('colab-df-spinner');\n",
              "      quickchartButtonEl.classList.add('colab-df-quickchart-complete');\n",
              "    }\n",
              "    (() => {\n",
              "      let quickchartButtonEl =\n",
              "        document.querySelector('#df-02a5f18b-ade5-487f-a20a-2008c9f6692f button');\n",
              "      quickchartButtonEl.style.display =\n",
              "        google.colab.kernel.accessAllowed ? 'block' : 'none';\n",
              "    })();\n",
              "  </script>\n",
              "</div>\n",
              "\n",
              "    </div>\n",
              "  </div>\n"
            ]
          },
          "metadata": {},
          "execution_count": 139
        }
      ],
      "source": [
        "tr_fe.head()"
      ]
    },
    {
      "cell_type": "markdown",
      "metadata": {
        "papermill": {
          "duration": 0.06639,
          "end_time": "2020-11-18T12:53:56.119511",
          "exception": false,
          "start_time": "2020-11-18T12:53:56.053121",
          "status": "completed"
        },
        "tags": [],
        "id": "ad9qcTix7rUx"
      },
      "source": [
        "# Machine learning models"
      ]
    },
    {
      "cell_type": "code",
      "execution_count": 140,
      "metadata": {
        "execution": {
          "iopub.execute_input": "2020-11-18T12:53:56.264773Z",
          "iopub.status.busy": "2020-11-18T12:53:56.263752Z",
          "iopub.status.idle": "2020-11-18T12:53:56.268678Z",
          "shell.execute_reply": "2020-11-18T12:53:56.268076Z"
        },
        "papermill": {
          "duration": 0.081485,
          "end_time": "2020-11-18T12:53:56.268785",
          "exception": false,
          "start_time": "2020-11-18T12:53:56.187300",
          "status": "completed"
        },
        "tags": [],
        "id": "d-qWeR267rUz"
      },
      "outputs": [],
      "source": [
        "y = tr_fe['Item_Outlet_Sales']\n",
        "X = tr_fe.drop('Item_Outlet_Sales', axis = 1)\n",
        "X_train, X_test, y_train, y_test = train_test_split(X, y, test_size = 0.8, random_state = 0)"
      ]
    },
    {
      "cell_type": "code",
      "execution_count": 141,
      "metadata": {
        "execution": {
          "iopub.execute_input": "2020-11-18T12:53:56.409660Z",
          "iopub.status.busy": "2020-11-18T12:53:56.409025Z",
          "iopub.status.idle": "2020-11-18T12:53:56.411697Z",
          "shell.execute_reply": "2020-11-18T12:53:56.411196Z"
        },
        "papermill": {
          "duration": 0.075524,
          "end_time": "2020-11-18T12:53:56.411805",
          "exception": false,
          "start_time": "2020-11-18T12:53:56.336281",
          "status": "completed"
        },
        "tags": [],
        "id": "GausaDvw7rU0"
      },
      "outputs": [],
      "source": [
        "def cross_val(model_name,model,X,y,cv):\n",
        "\n",
        "    scores = CVS(model, X, y, cv=cv)\n",
        "    print(f'{model_name} Scores:')\n",
        "    for i in scores:\n",
        "        print(round(i,2))\n",
        "    print(f'Average {model_name} score: {round(scores.mean(),4)}')"
      ]
    },
    {
      "cell_type": "markdown",
      "metadata": {
        "papermill": {
          "duration": 0.066561,
          "end_time": "2020-11-18T12:53:56.545840",
          "exception": false,
          "start_time": "2020-11-18T12:53:56.479279",
          "status": "completed"
        },
        "tags": [],
        "id": "5dP3_ree7rVZ"
      },
      "source": [
        "## Linear Regression\n"
      ]
    },
    {
      "cell_type": "code",
      "execution_count": 142,
      "metadata": {
        "execution": {
          "iopub.execute_input": "2020-11-18T12:53:56.691223Z",
          "iopub.status.busy": "2020-11-18T12:53:56.690508Z",
          "iopub.status.idle": "2020-11-18T12:53:56.837345Z",
          "shell.execute_reply": "2020-11-18T12:53:56.836689Z"
        },
        "papermill": {
          "duration": 0.224531,
          "end_time": "2020-11-18T12:53:56.837464",
          "exception": false,
          "start_time": "2020-11-18T12:53:56.612933",
          "status": "completed"
        },
        "tags": [],
        "id": "0iYyAyAp7rVa",
        "colab": {
          "base_uri": "https://localhost:8080/"
        },
        "outputId": "cc186091-d8ca-4bd0-a36c-70c2b6d13c43"
      },
      "outputs": [
        {
          "output_type": "stream",
          "name": "stdout",
          "text": [
            " Mean Absolute Error: 838.19\n",
            "\n",
            " Mean Squared Error: 1285793.54\n",
            "\n",
            " R^2 Score: 0.5593\n",
            "\n",
            "LinearRegression() Scores:\n",
            "0.57\n",
            "0.55\n",
            "0.55\n",
            "0.56\n",
            "0.56\n",
            "Average LinearRegression() score: 0.558\n"
          ]
        }
      ],
      "source": [
        "#model\n",
        "LR = LinearRegression()\n",
        "\n",
        "#fit\n",
        "LR.fit(X_train, y_train)\n",
        "\n",
        "#predict\n",
        "y_predict = LR.predict(X_test)\n",
        "\n",
        "#score variables\n",
        "LR_MAE = round(MAE(y_test, y_predict),2)\n",
        "LR_MSE = round(MSE(y_test, y_predict),2)\n",
        "LR_R_2 = round(R2(y_test, y_predict),4)\n",
        "LR_CS  = round(CVS(LR, X, y, cv=5).mean(),4)\n",
        "\n",
        "print(f\" Mean Absolute Error: {LR_MAE}\\n\")\n",
        "print(f\" Mean Squared Error: {LR_MSE}\\n\")\n",
        "print(f\" R^2 Score: {LR_R_2}\\n\")\n",
        "cross_val(LR,LinearRegression(),X,y,5)"
      ]
    },
    {
      "cell_type": "code",
      "execution_count": 143,
      "metadata": {
        "execution": {
          "iopub.execute_input": "2020-11-18T12:53:57.116061Z",
          "iopub.status.busy": "2020-11-18T12:53:57.115361Z",
          "iopub.status.idle": "2020-11-18T12:53:57.379471Z",
          "shell.execute_reply": "2020-11-18T12:53:57.378760Z"
        },
        "papermill": {
          "duration": 0.337197,
          "end_time": "2020-11-18T12:53:57.379598",
          "exception": false,
          "start_time": "2020-11-18T12:53:57.042401",
          "status": "completed"
        },
        "tags": [],
        "id": "N8Rt4TIw7rVc"
      },
      "outputs": [],
      "source": [
        "Linear_Regression=pd.DataFrame({'y_test':y_test,'prediction':y_predict})\n",
        "Linear_Regression.to_csv(\"Linear Regression.csv\")"
      ]
    },
    {
      "cell_type": "markdown",
      "metadata": {
        "papermill": {
          "duration": 0.067278,
          "end_time": "2020-11-18T12:53:57.515532",
          "exception": false,
          "start_time": "2020-11-18T12:53:57.448254",
          "status": "completed"
        },
        "tags": [],
        "id": "EG7Ys_h37rVd"
      },
      "source": [
        "## Random Forest Regressor\n"
      ]
    },
    {
      "cell_type": "code",
      "execution_count": null,
      "metadata": {
        "execution": {
          "iopub.execute_input": "2020-11-18T12:53:57.661465Z",
          "iopub.status.busy": "2020-11-18T12:53:57.660799Z",
          "iopub.status.idle": "2020-11-18T12:54:23.522007Z",
          "shell.execute_reply": "2020-11-18T12:54:23.521127Z"
        },
        "papermill": {
          "duration": 25.939204,
          "end_time": "2020-11-18T12:54:23.522166",
          "exception": false,
          "start_time": "2020-11-18T12:53:57.582962",
          "status": "completed"
        },
        "tags": [],
        "id": "3u0e_XqV7rVe",
        "colab": {
          "base_uri": "https://localhost:8080/"
        },
        "outputId": "b4d54b0e-3e2e-45a3-8958-313caaca9aeb"
      },
      "outputs": [
        {
          "output_type": "stream",
          "name": "stdout",
          "text": [
            " Mean Absolute Error: 1030.27\n",
            "\n",
            " Mean Squared Error: 1964025.66\n",
            "\n",
            " R^2 Score: 0.3268\n",
            "\n"
          ]
        }
      ],
      "source": [
        "#model\n",
        "RFR= RandomForestRegressor(n_estimators=200,max_depth=5, min_samples_leaf=100,n_jobs=4,random_state=101)\n",
        "#fit\n",
        "RFR.fit(X_train, y_train)\n",
        "#predict\n",
        "y_predict = RFR.predict(X_test)\n",
        "\n",
        "#score variables\n",
        "RFR_MAE = round(MAE(y_test, y_predict),2)\n",
        "RFR_MSE = round(MSE(y_test, y_predict),2)\n",
        "RFR_R_2 = round(R2(y_test, y_predict),4)\n",
        "RFR_CS  = round(CVS(RFR, X, y, cv=5).mean(),4)\n",
        "\n",
        "\n",
        "\n",
        "print(f\" Mean Absolute Error: {RFR_MAE}\\n\")\n",
        "print(f\" Mean Squared Error: {RFR_MSE}\\n\")\n",
        "print(f\" R^2 Score: {RFR_R_2}\\n\")\n",
        "cross_val(RFR,RandomForestRegressor(),X,y,5)\n"
      ]
    },
    {
      "cell_type": "code",
      "execution_count": null,
      "metadata": {
        "execution": {
          "iopub.execute_input": "2020-11-18T12:54:23.806035Z",
          "iopub.status.busy": "2020-11-18T12:54:23.805395Z",
          "iopub.status.idle": "2020-11-18T12:54:23.835685Z",
          "shell.execute_reply": "2020-11-18T12:54:23.834960Z"
        },
        "papermill": {
          "duration": 0.10618,
          "end_time": "2020-11-18T12:54:23.835811",
          "exception": false,
          "start_time": "2020-11-18T12:54:23.729631",
          "status": "completed"
        },
        "tags": [],
        "id": "JrcmhecO7rV5"
      },
      "outputs": [],
      "source": [
        "Random_Forest_Regressor=pd.DataFrame({'y_test':y_test,'prediction':y_predict})\n",
        "Random_Forest_Regressor.to_csv(\"Random Forest Regressor.csv\")"
      ]
    },
    {
      "cell_type": "markdown",
      "metadata": {
        "papermill": {
          "duration": 0.068399,
          "end_time": "2020-11-18T12:54:23.973544",
          "exception": false,
          "start_time": "2020-11-18T12:54:23.905145",
          "status": "completed"
        },
        "tags": [],
        "id": "GfugQTGu7rV5"
      },
      "source": [
        "## Lasso Regressor\n",
        "\n"
      ]
    },
    {
      "cell_type": "code",
      "execution_count": null,
      "metadata": {
        "execution": {
          "iopub.execute_input": "2020-11-18T12:54:24.121285Z",
          "iopub.status.busy": "2020-11-18T12:54:24.120636Z",
          "iopub.status.idle": "2020-11-18T12:54:26.103779Z",
          "shell.execute_reply": "2020-11-18T12:54:26.104439Z"
        },
        "papermill": {
          "duration": 2.062013,
          "end_time": "2020-11-18T12:54:26.104632",
          "exception": false,
          "start_time": "2020-11-18T12:54:24.042619",
          "status": "completed"
        },
        "tags": [],
        "id": "QgOiL1p67rV6"
      },
      "outputs": [],
      "source": [
        "#model\n",
        "LS = Lasso(alpha = 0.05)\n",
        "#fit\n",
        "LS.fit(X_train,y_train)\n",
        "\n",
        "#predict\n",
        "y_predict = LS.predict(X_test)\n",
        "\n",
        "#score variables\n",
        "LS_MAE = round(MAE(y_test, y_predict),2)\n",
        "LS_MSE = round(MSE(y_test, y_predict),2)\n",
        "LS_R_2 = round(R2(y_test, y_predict),4)\n",
        "LS_CS  = round(CVS(LS, X, y, cv=5).mean(),4)\n",
        "\n",
        "print(f\" Mean Absolute Error: {LS_MAE}\\n\")\n",
        "print(f\" Mean Squared Error: {LS_MSE}\\n\")\n",
        "print(f\" R^2 Score: {LS_R_2}\\n\")\n",
        "cross_val(LS,Lasso(alpha = 0.05),X,y,5)"
      ]
    },
    {
      "cell_type": "code",
      "execution_count": null,
      "metadata": {
        "execution": {
          "iopub.execute_input": "2020-11-18T12:54:26.394961Z",
          "iopub.status.busy": "2020-11-18T12:54:26.394370Z",
          "iopub.status.idle": "2020-11-18T12:54:26.424477Z",
          "shell.execute_reply": "2020-11-18T12:54:26.423771Z"
        },
        "papermill": {
          "duration": 0.105724,
          "end_time": "2020-11-18T12:54:26.424591",
          "exception": false,
          "start_time": "2020-11-18T12:54:26.318867",
          "status": "completed"
        },
        "tags": [],
        "id": "XE5GH5ot7rV9"
      },
      "outputs": [],
      "source": [
        "Lasso_Regressor=pd.DataFrame({'y_test':y_test,'prediction':y_predict})\n",
        "Lasso_Regressor.to_csv(\"Lasso Regressor.csv\")"
      ]
    },
    {
      "cell_type": "markdown",
      "metadata": {
        "papermill": {
          "duration": 0.069204,
          "end_time": "2020-11-18T12:54:26.564092",
          "exception": false,
          "start_time": "2020-11-18T12:54:26.494888",
          "status": "completed"
        },
        "tags": [],
        "id": "L3sNckkM7rV-"
      },
      "source": [
        "# Conclusion"
      ]
    },
    {
      "cell_type": "code",
      "execution_count": null,
      "metadata": {
        "execution": {
          "iopub.execute_input": "2020-11-18T12:54:26.720628Z",
          "iopub.status.busy": "2020-11-18T12:54:26.719882Z",
          "iopub.status.idle": "2020-11-18T12:54:26.723393Z",
          "shell.execute_reply": "2020-11-18T12:54:26.723834Z"
        },
        "papermill": {
          "duration": 0.090221,
          "end_time": "2020-11-18T12:54:26.723982",
          "exception": false,
          "start_time": "2020-11-18T12:54:26.633761",
          "status": "completed"
        },
        "tags": [],
        "id": "_9P4hu_I7rV_"
      },
      "outputs": [],
      "source": [
        "MAE= [LR_MAE,RFR_MAE,LS_MAE]\n",
        "MSE= [LR_MSE,RFR_MSE,LS_MSE]\n",
        "R_2= [LR_R_2,RFR_R_2,LS_R_2]\n",
        "Cross_score= [LR_CS,RFR_CS,LS_CS]\n",
        "\n",
        "Models = pd.DataFrame({\n",
        "    'models': [\"Linear Regression\",\"Random Forest Regressor\",\"Lasso Regressor\"],\n",
        "    'MAE': MAE, 'MSE': MSE, 'R^2':R_2, 'Cross Validation Score':Cross_score})\n",
        "Models.sort_values(by='MAE', ascending=True)"
      ]
    },
    {
      "cell_type": "markdown",
      "source": [
        "#Summary\n",
        "\n",
        "Linear Regression and Lasso Regressor have the best perfomance in most categories."
      ],
      "metadata": {
        "id": "_PBhNKsGZ4OE"
      }
    }
  ],
  "metadata": {
    "kernelspec": {
      "display_name": "Python 3",
      "language": "python",
      "name": "python3"
    },
    "language_info": {
      "codemirror_mode": {
        "name": "ipython",
        "version": 3
      },
      "file_extension": ".py",
      "mimetype": "text/x-python",
      "name": "python",
      "nbconvert_exporter": "python",
      "pygments_lexer": "ipython3",
      "version": "3.7.6"
    },
    "papermill": {
      "duration": 49.805056,
      "end_time": "2020-11-18T12:54:28.175581",
      "environment_variables": {},
      "exception": null,
      "input_path": "__notebook__.ipynb",
      "output_path": "__notebook__.ipynb",
      "parameters": {},
      "start_time": "2020-11-18T12:53:38.370525",
      "version": "2.1.0"
    },
    "colab": {
      "provenance": []
    }
  },
  "nbformat": 4,
  "nbformat_minor": 0
}